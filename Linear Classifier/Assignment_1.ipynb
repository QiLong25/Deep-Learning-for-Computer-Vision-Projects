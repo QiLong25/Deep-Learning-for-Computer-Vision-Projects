{
  "cells": [
    {
      "cell_type": "markdown",
      "metadata": {
        "id": "xB21D_dfXnoI"
      },
      "source": [
        "# (Optional) Colab Setup\n",
        "If you aren't using Colab, you can delete the following code cell. This is just to help students with mounting to Google Drive to access the other .py files and downloading the data, which is a little trickier on Colab than on your local machine using Jupyter."
      ]
    },
    {
      "cell_type": "code",
      "execution_count": 83,
      "metadata": {
        "colab": {
          "base_uri": "https://localhost:8080/"
        },
        "id": "NmvHsMubXnoK",
        "outputId": "5df6286a-114a-43de-81c7-3bb1f626c203"
      },
      "outputs": [
        {
          "output_type": "stream",
          "name": "stdout",
          "text": [
            "Drive already mounted at /content/drive; to attempt to forcibly remount, call drive.mount(\"/content/drive\", force_remount=True).\n"
          ]
        }
      ],
      "source": [
        "# you will be prompted with a window asking to grant permissions\n",
        "from google.colab import drive\n",
        "drive.mount(\"/content/drive\")"
      ]
    },
    {
      "cell_type": "code",
      "execution_count": 84,
      "metadata": {
        "colab": {
          "base_uri": "https://localhost:8080/"
        },
        "id": "qSrcNgRKXnoL",
        "outputId": "d27c0b6d-9138-4981-9721-349c123f42fb"
      },
      "outputs": [
        {
          "output_type": "stream",
          "name": "stdout",
          "text": [
            "/content/drive/MyDrive/CS444/assignment1\n"
          ]
        }
      ],
      "source": [
        "# fill in the path in your Google Drive in the string below. Note: do not escape slashes or spaces\n",
        "import os\n",
        "datadir = \"/content/drive/MyDrive/CS444/assignment1/\"\n",
        "# if not os.path.exists(datadir):\n",
        "#   !ln -s \"/drive/MyDrive/CS444/assignment1/\" $datadir\n",
        "os.chdir(datadir)\n",
        "!pwd"
      ]
    },
    {
      "cell_type": "code",
      "execution_count": 85,
      "metadata": {
        "colab": {
          "base_uri": "https://localhost:8080/"
        },
        "id": "aDgdlzYpXnoL",
        "outputId": "3558ba26-bef1-4924-8075-03502a7e901f"
      },
      "outputs": [
        {
          "output_type": "stream",
          "name": "stdout",
          "text": [
            "--2024-02-13 16:38:50--  https://raw.githubusercontent.com/zalandoresearch/fashion-mnist/master/data/fashion/t10k-images-idx3-ubyte.gz\n",
            "Resolving raw.githubusercontent.com (raw.githubusercontent.com)... 185.199.109.133, 185.199.110.133, 185.199.111.133, ...\n",
            "Connecting to raw.githubusercontent.com (raw.githubusercontent.com)|185.199.109.133|:443... connected.\n",
            "HTTP request sent, awaiting response... 200 OK\n",
            "Length: 4422102 (4.2M) [application/octet-stream]\n",
            "Saving to: ‘t10k-images-idx3-ubyte.gz.17’\n",
            "\n",
            "t10k-images-idx3-ub 100%[===================>]   4.22M  --.-KB/s    in 0.08s   \n",
            "\n",
            "2024-02-13 16:38:51 (51.5 MB/s) - ‘t10k-images-idx3-ubyte.gz.17’ saved [4422102/4422102]\n",
            "\n",
            "--2024-02-13 16:38:51--  https://raw.githubusercontent.com/zalandoresearch/fashion-mnist/master/data/fashion/t10k-labels-idx1-ubyte.gz\n",
            "Resolving raw.githubusercontent.com (raw.githubusercontent.com)... 185.199.108.133, 185.199.109.133, 185.199.110.133, ...\n",
            "Connecting to raw.githubusercontent.com (raw.githubusercontent.com)|185.199.108.133|:443... connected.\n",
            "HTTP request sent, awaiting response... 200 OK\n",
            "Length: 5148 (5.0K) [application/octet-stream]\n",
            "Saving to: ‘t10k-labels-idx1-ubyte.gz.17’\n",
            "\n",
            "t10k-labels-idx1-ub 100%[===================>]   5.03K  --.-KB/s    in 0.004s  \n",
            "\n",
            "2024-02-13 16:38:51 (1.17 MB/s) - ‘t10k-labels-idx1-ubyte.gz.17’ saved [5148/5148]\n",
            "\n",
            "--2024-02-13 16:38:51--  https://raw.githubusercontent.com/zalandoresearch/fashion-mnist/master/data/fashion/train-images-idx3-ubyte.gz\n",
            "Resolving raw.githubusercontent.com (raw.githubusercontent.com)... 185.199.108.133, 185.199.109.133, 185.199.110.133, ...\n",
            "Connecting to raw.githubusercontent.com (raw.githubusercontent.com)|185.199.108.133|:443... connected.\n",
            "HTTP request sent, awaiting response... 200 OK\n",
            "Length: 26421880 (25M) [application/octet-stream]\n",
            "Saving to: ‘train-images-idx3-ubyte.gz.17’\n",
            "\n",
            "train-images-idx3-u 100%[===================>]  25.20M  65.4MB/s    in 0.4s    \n",
            "\n",
            "2024-02-13 16:38:52 (65.4 MB/s) - ‘train-images-idx3-ubyte.gz.17’ saved [26421880/26421880]\n",
            "\n",
            "--2024-02-13 16:38:52--  https://raw.githubusercontent.com/zalandoresearch/fashion-mnist/master/data/fashion/train-labels-idx1-ubyte.gz\n",
            "Resolving raw.githubusercontent.com (raw.githubusercontent.com)... 185.199.109.133, 185.199.111.133, 185.199.110.133, ...\n",
            "Connecting to raw.githubusercontent.com (raw.githubusercontent.com)|185.199.109.133|:443... connected.\n",
            "HTTP request sent, awaiting response... 200 OK\n",
            "Length: 29515 (29K) [application/octet-stream]\n",
            "Saving to: ‘train-labels-idx1-ubyte.gz.17’\n",
            "\n",
            "train-labels-idx1-u 100%[===================>]  28.82K  --.-KB/s    in 0.005s  \n",
            "\n",
            "2024-02-13 16:38:52 (5.34 MB/s) - ‘train-labels-idx1-ubyte.gz.17’ saved [29515/29515]\n",
            "\n"
          ]
        }
      ],
      "source": [
        "# downloading Fashion-MNIST\n",
        "import os\n",
        "os.chdir(os.path.join(datadir,\"fashion-mnist/\"))\n",
        "!chmod +x ./get_data.sh\n",
        "!./get_data.sh\n",
        "os.chdir(datadir)"
      ]
    },
    {
      "cell_type": "markdown",
      "metadata": {
        "id": "DxD6qUZYXnoL"
      },
      "source": [
        "# Imports"
      ]
    },
    {
      "cell_type": "code",
      "execution_count": 86,
      "metadata": {
        "id": "2d8ejtwtXnoL",
        "colab": {
          "base_uri": "https://localhost:8080/"
        },
        "outputId": "cd3155e4-6405-4c9e-ee14-a6f0f040701d"
      },
      "outputs": [
        {
          "output_type": "stream",
          "name": "stdout",
          "text": [
            "The autoreload extension is already loaded. To reload it, use:\n",
            "  %reload_ext autoreload\n"
          ]
        }
      ],
      "source": [
        "import random\n",
        "import numpy as np\n",
        "from data_process import get_FASHION_data, get_RICE_data\n",
        "from scipy.spatial import distance\n",
        "from models import Perceptron, SVM, Softmax, Logistic\n",
        "from kaggle_submission import output_submission_csv\n",
        "%matplotlib inline\n",
        "\n",
        "# For auto-reloading external modules\n",
        "# See http://stackoverflow.com/questions/1907993/autoreload-of-modules-in-ipython\n",
        "%load_ext autoreload\n",
        "%autoreload 2"
      ]
    },
    {
      "cell_type": "markdown",
      "metadata": {
        "id": "KBd4GZkdXnoL"
      },
      "source": [
        "# Loading Fashion-MNIST"
      ]
    },
    {
      "cell_type": "markdown",
      "metadata": {
        "id": "ZpzaR0RTXnoL"
      },
      "source": [
        "In the following cells we determine the number of images for each split and load the images.\n",
        "<br />\n",
        "TRAIN_IMAGES + VAL_IMAGES = (0, 60000]\n",
        ", TEST_IMAGES = 10000"
      ]
    },
    {
      "cell_type": "code",
      "execution_count": 87,
      "metadata": {
        "id": "Sb9aCgEhXnoL"
      },
      "outputs": [],
      "source": [
        "# You can change these numbers for experimentation\n",
        "# For submission we will use the default values\n",
        "TRAIN_IMAGES = 50000\n",
        "VAL_IMAGES = 10000\n",
        "normalize = True"
      ]
    },
    {
      "cell_type": "code",
      "execution_count": 88,
      "metadata": {
        "id": "7q9zpcHZXnoM"
      },
      "outputs": [],
      "source": [
        "data = get_FASHION_data(TRAIN_IMAGES, VAL_IMAGES, normalize=normalize)\n",
        "X_train_fashion, y_train_fashion = data['X_train'], data['y_train']\n",
        "X_val_fashion, y_val_fashion = data['X_val'], data['y_val']\n",
        "X_test_fashion, y_test_fashion = data['X_test'], data['y_test']\n",
        "n_class_fashion = len(np.unique(y_test_fashion))"
      ]
    },
    {
      "cell_type": "markdown",
      "metadata": {
        "id": "yr-ZkaHTXnoM"
      },
      "source": [
        "# Loading Rice"
      ]
    },
    {
      "cell_type": "code",
      "execution_count": 89,
      "metadata": {
        "colab": {
          "base_uri": "https://localhost:8080/"
        },
        "id": "2Gb_pDW_XnoM",
        "outputId": "06d1e2a3-50ce-42aa-e0d6-ae95c2b1002c"
      },
      "outputs": [
        {
          "output_type": "stream",
          "name": "stdout",
          "text": [
            "Number of train samples:  10911\n",
            "Number of val samples:  3637\n",
            "Number of test samples:  3637\n"
          ]
        }
      ],
      "source": [
        "# loads train / test / val splits of 80%, 20%, 20%\n",
        "data = get_RICE_data()\n",
        "X_train_RICE, y_train_RICE = data['X_train'], data['y_train']\n",
        "X_val_RICE, y_val_RICE = data['X_val'], data['y_val']\n",
        "X_test_RICE, y_test_RICE = data['X_test'], data['y_test']\n",
        "n_class_RICE = len(np.unique(y_test_RICE))\n",
        "\n",
        "print(\"Number of train samples: \", X_train_RICE.shape[0])\n",
        "print(\"Number of val samples: \", X_val_RICE.shape[0])\n",
        "print(\"Number of test samples: \", X_test_RICE.shape[0])"
      ]
    },
    {
      "cell_type": "markdown",
      "metadata": {
        "id": "yCKlH4xlXnoM"
      },
      "source": [
        "### Get Accuracy"
      ]
    },
    {
      "cell_type": "markdown",
      "metadata": {
        "id": "YcQtCp68XnoM"
      },
      "source": [
        "This function computes how well your model performs using accuracy as a metric."
      ]
    },
    {
      "cell_type": "code",
      "execution_count": 90,
      "metadata": {
        "id": "EegzI-bZXnoM"
      },
      "outputs": [],
      "source": [
        "def get_acc(pred, y_test):\n",
        "    return np.sum(y_test == pred) / len(y_test) * 100"
      ]
    },
    {
      "cell_type": "markdown",
      "metadata": {
        "id": "qJsCLH-oXnoM"
      },
      "source": [
        "# Perceptron"
      ]
    },
    {
      "cell_type": "markdown",
      "metadata": {
        "id": "hpT7VjSmXnoM"
      },
      "source": [
        "Perceptron has 2 hyperparameters that you can experiment with:\n",
        "### Learning rate\n",
        "The learning rate controls how much we change the current weights of the classifier during each update. We set it at a default value of 0.5, but you should experiment with different values. Here is a guide to help you find a right learning rate:\n",
        "- Try values ranging from 5.0 to 0.0005 to see the impact on model accuracy.\n",
        "- If the accuracy fluctuates a lot or diverges, the learning rate is too high. Try decreasing it by a factor of 10 (e.g. from 0.5 to 0.05).\n",
        "- If the accuracy is changing very slowly, the learning rate may be too low. Try increasing it by a factor of 10.\n",
        "- You can also try adding a learning rate decay to slowly reduce the learning rate over each training epoch. For example, multiply the learning rate by 0.95 after each epoch.\n",
        "- Plot training and validation accuracy over epochs for different learning rates. This will help you visualize the impact of the learning rate.\n",
        "- [Here](https://towardsdatascience.com/https-medium-com-dashingaditya-rakhecha-understanding-learning-rate-dd5da26bb6de) is a detailed guide to learning rate.\n",
        "\n",
        "### Number of Epochs\n",
        "An epoch is a complete iterative pass over all of the data in the dataset. During an epoch we predict a label using the classifier and then update the weights of the classifier according to the perceptron update rule for each sample in the training set. You should try different values for the number of training epochs and report your results."
      ]
    },
    {
      "cell_type": "markdown",
      "metadata": {
        "id": "KHe8iO8jXnoN"
      },
      "source": [
        "You will implement the Perceptron classifier in the **models/perceptron.py**\n",
        "\n",
        "The following code:\n",
        "- Creates an instance of the Perceptron classifier class\n",
        "- The train function of the Perceptron class is trained on the training data\n",
        "- We use the predict function to find the training accuracy as well as the testing accuracy\n"
      ]
    },
    {
      "cell_type": "markdown",
      "metadata": {
        "id": "25Dn3mNoXnoN"
      },
      "source": [
        "## Train Perceptron on Fashion-MNIST"
      ]
    },
    {
      "cell_type": "code",
      "source": [
        "### Best\n",
        "lr = 0.005\n",
        "n_epochs = 100\n",
        "\n",
        "### experiment\n",
        "import matplotlib.pyplot as plt\n",
        "\n",
        "x = np.linspace(1, n_epochs, n_epochs)\n",
        "y = np.zeros(n_epochs)\n",
        "\n",
        "percept_fashion = Perceptron(n_class_fashion, lr, 1)\n",
        "for epoch in range(n_epochs):\n",
        "  print(\"training epoch {}:\".format(epoch))\n",
        "  percept_fashion.train(X_train_fashion, y_train_fashion)\n",
        "  pred_percept = percept_fashion.predict(X_val_fashion)\n",
        "  print('The validation accuracy is: %f' % (get_acc(pred_percept, y_val_fashion)))\n",
        "  y[epoch] = get_acc(pred_percept, y_val_fashion)\n",
        "  # if y[epoch] > 82:\n",
        "  #   break\n",
        "\n",
        "plt.plot(x, y, 'r-.p')\n",
        "plt.show()"
      ],
      "metadata": {
        "colab": {
          "base_uri": "https://localhost:8080/",
          "height": 1000
        },
        "id": "2nrfTDCNNdmY",
        "outputId": "a2fd3931-eece-44f8-f758-947648826732"
      },
      "execution_count": 93,
      "outputs": [
        {
          "output_type": "stream",
          "name": "stdout",
          "text": [
            "training epoch 0:\n",
            "The training accuracy is 77.806\n",
            "The validation accuracy is: 77.120000\n",
            "training epoch 1:\n",
            "The training accuracy is 79.032\n",
            "The validation accuracy is: 77.950000\n",
            "training epoch 2:\n",
            "The training accuracy is 79.822\n",
            "The validation accuracy is: 79.010000\n",
            "training epoch 3:\n",
            "The training accuracy is 80.684\n",
            "The validation accuracy is: 78.990000\n",
            "training epoch 4:\n",
            "The training accuracy is 81.554\n",
            "The validation accuracy is: 80.490000\n",
            "training epoch 5:\n",
            "The training accuracy is 80.166\n",
            "The validation accuracy is: 77.860000\n",
            "training epoch 6:\n",
            "The training accuracy is 80.138\n",
            "The validation accuracy is: 78.590000\n",
            "training epoch 7:\n",
            "The training accuracy is 81.992\n",
            "The validation accuracy is: 79.880000\n",
            "training epoch 8:\n",
            "The training accuracy is 82.098\n",
            "The validation accuracy is: 80.430000\n",
            "training epoch 9:\n",
            "The training accuracy is 81.492\n",
            "The validation accuracy is: 79.440000\n",
            "training epoch 10:\n",
            "The training accuracy is 81.146\n",
            "The validation accuracy is: 78.790000\n",
            "training epoch 11:\n",
            "The training accuracy is 78.776\n",
            "The validation accuracy is: 76.730000\n",
            "training epoch 12:\n",
            "The training accuracy is 81.07799999999999\n",
            "The validation accuracy is: 79.090000\n",
            "training epoch 13:\n",
            "The training accuracy is 80.28999999999999\n",
            "The validation accuracy is: 77.740000\n",
            "training epoch 14:\n",
            "The training accuracy is 81.596\n",
            "The validation accuracy is: 78.830000\n",
            "training epoch 15:\n",
            "The training accuracy is 83.31\n",
            "The validation accuracy is: 80.860000\n",
            "training epoch 16:\n",
            "The training accuracy is 83.62\n",
            "The validation accuracy is: 81.100000\n",
            "training epoch 17:\n",
            "The training accuracy is 82.66799999999999\n",
            "The validation accuracy is: 79.930000\n",
            "training epoch 18:\n",
            "The training accuracy is 84.734\n",
            "The validation accuracy is: 82.530000\n",
            "training epoch 19:\n",
            "The training accuracy is 81.94200000000001\n",
            "The validation accuracy is: 78.930000\n",
            "training epoch 20:\n",
            "The training accuracy is 83.292\n",
            "The validation accuracy is: 80.640000\n",
            "training epoch 21:\n",
            "The training accuracy is 82.228\n",
            "The validation accuracy is: 79.250000\n",
            "training epoch 22:\n",
            "The training accuracy is 79.938\n",
            "The validation accuracy is: 77.540000\n",
            "training epoch 23:\n",
            "The training accuracy is 83.562\n",
            "The validation accuracy is: 81.140000\n",
            "training epoch 24:\n",
            "The training accuracy is 83.49\n",
            "The validation accuracy is: 81.160000\n",
            "training epoch 25:\n",
            "The training accuracy is 82.952\n",
            "The validation accuracy is: 80.280000\n",
            "training epoch 26:\n",
            "The training accuracy is 82.808\n",
            "The validation accuracy is: 80.440000\n",
            "training epoch 27:\n",
            "The training accuracy is 80.066\n",
            "The validation accuracy is: 77.410000\n",
            "training epoch 28:\n",
            "The training accuracy is 82.17\n",
            "The validation accuracy is: 79.550000\n",
            "training epoch 29:\n",
            "The training accuracy is 81.052\n",
            "The validation accuracy is: 78.560000\n",
            "training epoch 30:\n",
            "The training accuracy is 81.234\n",
            "The validation accuracy is: 78.040000\n",
            "training epoch 31:\n",
            "The training accuracy is 82.648\n",
            "The validation accuracy is: 80.450000\n",
            "training epoch 32:\n",
            "The training accuracy is 76.55199999999999\n",
            "The validation accuracy is: 73.650000\n",
            "training epoch 33:\n",
            "The training accuracy is 82.84\n",
            "The validation accuracy is: 80.070000\n",
            "training epoch 34:\n",
            "The training accuracy is 81.552\n",
            "The validation accuracy is: 78.220000\n",
            "training epoch 35:\n",
            "The training accuracy is 82.39800000000001\n",
            "The validation accuracy is: 79.540000\n",
            "training epoch 36:\n",
            "The training accuracy is 80.498\n",
            "The validation accuracy is: 77.540000\n",
            "training epoch 37:\n",
            "The training accuracy is 82.376\n",
            "The validation accuracy is: 79.460000\n",
            "training epoch 38:\n",
            "The training accuracy is 80.856\n",
            "The validation accuracy is: 78.650000\n",
            "training epoch 39:\n",
            "The training accuracy is 83.822\n",
            "The validation accuracy is: 80.590000\n",
            "training epoch 40:\n",
            "The training accuracy is 77.538\n",
            "The validation accuracy is: 74.480000\n",
            "training epoch 41:\n",
            "The training accuracy is 80.656\n",
            "The validation accuracy is: 78.120000\n",
            "training epoch 42:\n",
            "The training accuracy is 81.97\n",
            "The validation accuracy is: 79.250000\n",
            "training epoch 43:\n",
            "The training accuracy is 81.562\n",
            "The validation accuracy is: 78.980000\n",
            "training epoch 44:\n",
            "The training accuracy is 81.17999999999999\n",
            "The validation accuracy is: 78.300000\n",
            "training epoch 45:\n",
            "The training accuracy is 80.53200000000001\n",
            "The validation accuracy is: 77.050000\n",
            "training epoch 46:\n",
            "The training accuracy is 83.148\n",
            "The validation accuracy is: 80.060000\n",
            "training epoch 47:\n",
            "The training accuracy is 80.328\n",
            "The validation accuracy is: 78.160000\n",
            "training epoch 48:\n",
            "The training accuracy is 82.76599999999999\n",
            "The validation accuracy is: 79.620000\n",
            "training epoch 49:\n",
            "The training accuracy is 81.55\n",
            "The validation accuracy is: 78.300000\n",
            "training epoch 50:\n",
            "The training accuracy is 79.85799999999999\n",
            "The validation accuracy is: 76.730000\n",
            "training epoch 51:\n"
          ]
        },
        {
          "output_type": "error",
          "ename": "KeyboardInterrupt",
          "evalue": "",
          "traceback": [
            "\u001b[0;31m---------------------------------------------------------------------------\u001b[0m",
            "\u001b[0;31mKeyboardInterrupt\u001b[0m                         Traceback (most recent call last)",
            "\u001b[0;32m<ipython-input-93-a45fe4410690>\u001b[0m in \u001b[0;36m<cell line: 12>\u001b[0;34m()\u001b[0m\n\u001b[1;32m     12\u001b[0m \u001b[0;32mfor\u001b[0m \u001b[0mepoch\u001b[0m \u001b[0;32min\u001b[0m \u001b[0mrange\u001b[0m\u001b[0;34m(\u001b[0m\u001b[0mn_epochs\u001b[0m\u001b[0;34m)\u001b[0m\u001b[0;34m:\u001b[0m\u001b[0;34m\u001b[0m\u001b[0;34m\u001b[0m\u001b[0m\n\u001b[1;32m     13\u001b[0m   \u001b[0mprint\u001b[0m\u001b[0;34m(\u001b[0m\u001b[0;34m\"training epoch {}:\"\u001b[0m\u001b[0;34m.\u001b[0m\u001b[0mformat\u001b[0m\u001b[0;34m(\u001b[0m\u001b[0mepoch\u001b[0m\u001b[0;34m)\u001b[0m\u001b[0;34m)\u001b[0m\u001b[0;34m\u001b[0m\u001b[0;34m\u001b[0m\u001b[0m\n\u001b[0;32m---> 14\u001b[0;31m   \u001b[0mpercept_fashion\u001b[0m\u001b[0;34m.\u001b[0m\u001b[0mtrain\u001b[0m\u001b[0;34m(\u001b[0m\u001b[0mX_train_fashion\u001b[0m\u001b[0;34m,\u001b[0m \u001b[0my_train_fashion\u001b[0m\u001b[0;34m)\u001b[0m\u001b[0;34m\u001b[0m\u001b[0;34m\u001b[0m\u001b[0m\n\u001b[0m\u001b[1;32m     15\u001b[0m   \u001b[0mpred_percept\u001b[0m \u001b[0;34m=\u001b[0m \u001b[0mpercept_fashion\u001b[0m\u001b[0;34m.\u001b[0m\u001b[0mpredict\u001b[0m\u001b[0;34m(\u001b[0m\u001b[0mX_val_fashion\u001b[0m\u001b[0;34m)\u001b[0m\u001b[0;34m\u001b[0m\u001b[0;34m\u001b[0m\u001b[0m\n\u001b[1;32m     16\u001b[0m   \u001b[0mprint\u001b[0m\u001b[0;34m(\u001b[0m\u001b[0;34m'The validation accuracy is: %f'\u001b[0m \u001b[0;34m%\u001b[0m \u001b[0;34m(\u001b[0m\u001b[0mget_acc\u001b[0m\u001b[0;34m(\u001b[0m\u001b[0mpred_percept\u001b[0m\u001b[0;34m,\u001b[0m \u001b[0my_val_fashion\u001b[0m\u001b[0;34m)\u001b[0m\u001b[0;34m)\u001b[0m\u001b[0;34m)\u001b[0m\u001b[0;34m\u001b[0m\u001b[0;34m\u001b[0m\u001b[0m\n",
            "\u001b[0;32m/content/drive/MyDrive/CS444/assignment1/models/perceptron.py\u001b[0m in \u001b[0;36mtrain\u001b[0;34m(self, X_train, y_train)\u001b[0m\n\u001b[1;32m     91\u001b[0m                         \u001b[0;32mif\u001b[0m \u001b[0mc\u001b[0m \u001b[0;34m!=\u001b[0m \u001b[0my_train_new\u001b[0m\u001b[0;34m[\u001b[0m\u001b[0mi\u001b[0m\u001b[0;34m]\u001b[0m\u001b[0;34m:\u001b[0m\u001b[0;34m\u001b[0m\u001b[0;34m\u001b[0m\u001b[0m\n\u001b[1;32m     92\u001b[0m                             \u001b[0mwc_x\u001b[0m \u001b[0;34m=\u001b[0m \u001b[0mxi\u001b[0m \u001b[0;34m@\u001b[0m \u001b[0mself\u001b[0m\u001b[0;34m.\u001b[0m\u001b[0mw\u001b[0m\u001b[0;34m[\u001b[0m\u001b[0;34m:\u001b[0m\u001b[0;34m,\u001b[0m \u001b[0mc\u001b[0m\u001b[0;34m]\u001b[0m\u001b[0;34m\u001b[0m\u001b[0;34m\u001b[0m\u001b[0m\n\u001b[0;32m---> 93\u001b[0;31m                             \u001b[0mwy_x\u001b[0m \u001b[0;34m=\u001b[0m \u001b[0mxi\u001b[0m \u001b[0;34m@\u001b[0m \u001b[0mself\u001b[0m\u001b[0;34m.\u001b[0m\u001b[0mw\u001b[0m\u001b[0;34m[\u001b[0m\u001b[0;34m:\u001b[0m\u001b[0;34m,\u001b[0m \u001b[0mint\u001b[0m\u001b[0;34m(\u001b[0m\u001b[0my_train_new\u001b[0m\u001b[0;34m[\u001b[0m\u001b[0mi\u001b[0m\u001b[0;34m]\u001b[0m\u001b[0;34m)\u001b[0m\u001b[0;34m]\u001b[0m\u001b[0;34m\u001b[0m\u001b[0;34m\u001b[0m\u001b[0m\n\u001b[0m\u001b[1;32m     94\u001b[0m                             \u001b[0;32mif\u001b[0m \u001b[0mwc_x\u001b[0m \u001b[0;34m>\u001b[0m \u001b[0mwy_x\u001b[0m\u001b[0;34m:\u001b[0m\u001b[0;34m\u001b[0m\u001b[0;34m\u001b[0m\u001b[0m\n\u001b[1;32m     95\u001b[0m                                 \u001b[0mself\u001b[0m\u001b[0;34m.\u001b[0m\u001b[0mw\u001b[0m\u001b[0;34m[\u001b[0m\u001b[0;34m:\u001b[0m\u001b[0;34m,\u001b[0m \u001b[0mint\u001b[0m\u001b[0;34m(\u001b[0m\u001b[0my_train_new\u001b[0m\u001b[0;34m[\u001b[0m\u001b[0mi\u001b[0m\u001b[0;34m]\u001b[0m\u001b[0;34m)\u001b[0m\u001b[0;34m]\u001b[0m \u001b[0;34m+=\u001b[0m \u001b[0mself\u001b[0m\u001b[0;34m.\u001b[0m\u001b[0mlr\u001b[0m \u001b[0;34m*\u001b[0m \u001b[0mxi\u001b[0m\u001b[0;34m\u001b[0m\u001b[0;34m\u001b[0m\u001b[0m\n",
            "\u001b[0;31mKeyboardInterrupt\u001b[0m: "
          ]
        }
      ]
    },
    {
      "cell_type": "code",
      "source": [
        "opt_epoches = np.argmax(y)\n",
        "opt_acc = np.max(y)\n",
        "print(\"optimal n_epoches =\", opt_epoches)\n",
        "print(\"optimal valid accuracy =\", opt_acc)"
      ],
      "metadata": {
        "id": "oiKMCfSfWjOp"
      },
      "execution_count": null,
      "outputs": []
    },
    {
      "cell_type": "code",
      "source": [
        "### Output Optimal\n",
        "percept_fashion = Perceptron(n_class_fashion, lr, opt_epoches)\n",
        "percept_fashion.train(X_train_fashion, y_train_fashion)"
      ],
      "metadata": {
        "colab": {
          "base_uri": "https://localhost:8080/",
          "height": 1000
        },
        "id": "_R6FKIKr1irY",
        "outputId": "a2d9ee0c-4f1b-4146-9fc1-51124062ad7b"
      },
      "execution_count": null,
      "outputs": [
        {
          "output_type": "stream",
          "name": "stdout",
          "text": [
            "training epoch 0:\n",
            "The training accuracy is 77.63600000000001\n",
            "The validation accuracy is: 77.130000\n",
            "training epoch 1:\n",
            "The training accuracy is 79.702\n",
            "The validation accuracy is: 78.610000\n",
            "training epoch 2:\n",
            "The training accuracy is 80.808\n",
            "The validation accuracy is: 79.480000\n",
            "training epoch 3:\n",
            "The training accuracy is 79.30199999999999\n",
            "The validation accuracy is: 77.710000\n",
            "training epoch 4:\n",
            "The training accuracy is 80.25999999999999\n",
            "The validation accuracy is: 78.540000\n",
            "training epoch 5:\n",
            "The training accuracy is 82.91\n",
            "The validation accuracy is: 80.680000\n",
            "training epoch 6:\n",
            "The training accuracy is 80.84599999999999\n",
            "The validation accuracy is: 78.580000\n",
            "training epoch 7:\n",
            "The training accuracy is 81.426\n",
            "The validation accuracy is: 79.190000\n",
            "training epoch 8:\n",
            "The training accuracy is 83.45\n",
            "The validation accuracy is: 81.220000\n",
            "training epoch 9:\n",
            "The training accuracy is 83.128\n",
            "The validation accuracy is: 81.030000\n",
            "training epoch 10:\n",
            "The training accuracy is 81.5\n",
            "The validation accuracy is: 79.720000\n",
            "training epoch 11:\n",
            "The training accuracy is 78.388\n",
            "The validation accuracy is: 75.910000\n",
            "training epoch 12:\n",
            "The training accuracy is 81.022\n",
            "The validation accuracy is: 78.560000\n",
            "training epoch 13:\n",
            "The training accuracy is 82.236\n",
            "The validation accuracy is: 79.570000\n",
            "training epoch 14:\n",
            "The training accuracy is 81.646\n",
            "The validation accuracy is: 79.060000\n",
            "training epoch 15:\n",
            "The training accuracy is 83.788\n",
            "The validation accuracy is: 80.880000\n",
            "training epoch 16:\n",
            "The training accuracy is 84.042\n",
            "The validation accuracy is: 80.950000\n",
            "training epoch 17:\n",
            "The training accuracy is 83.61800000000001\n",
            "The validation accuracy is: 80.580000\n",
            "training epoch 18:\n",
            "The training accuracy is 84.548\n",
            "The validation accuracy is: 81.690000\n"
          ]
        },
        {
          "output_type": "display_data",
          "data": {
            "text/plain": [
              "<Figure size 640x480 with 1 Axes>"
            ],
            "image/png": "[encoded data removed]"
          },
          "metadata": {}
        }
      ]
    },
    {
      "cell_type": "code",
      "execution_count": 19,
      "metadata": {
        "colab": {
          "base_uri": "https://localhost:8080/"
        },
        "id": "8xRKd2HVXnoN",
        "outputId": "018e4848-4423-4d66-f924-5c730bc8ae01"
      },
      "outputs": [
        {
          "output_type": "stream",
          "name": "stdout",
          "text": [
            "The training accuracy is given by: 84.734000\n"
          ]
        }
      ],
      "source": [
        "pred_percept = percept_fashion.predict(X_train_fashion)\n",
        "print('The training accuracy is given by: %f' % (get_acc(pred_percept, y_train_fashion)))"
      ]
    },
    {
      "cell_type": "markdown",
      "metadata": {
        "id": "A1SVqDXiXnoN"
      },
      "source": [
        "### Validate Perceptron on Fashion-MNIST"
      ]
    },
    {
      "cell_type": "code",
      "execution_count": 20,
      "metadata": {
        "colab": {
          "base_uri": "https://localhost:8080/"
        },
        "id": "vsrFzyHBXnoN",
        "outputId": "19c8a542-2fe6-4fff-8d8a-a996b68fd346"
      },
      "outputs": [
        {
          "output_type": "stream",
          "name": "stdout",
          "text": [
            "The validation accuracy is given by: 82.530000\n"
          ]
        }
      ],
      "source": [
        "pred_percept = percept_fashion.predict(X_val_fashion)\n",
        "print('The validation accuracy is given by: %f' % (get_acc(pred_percept, y_val_fashion)))"
      ]
    },
    {
      "cell_type": "markdown",
      "metadata": {
        "id": "zBh8G4S0XnoN"
      },
      "source": [
        "### Test Perceptron on Fashion-MNIST"
      ]
    },
    {
      "cell_type": "code",
      "execution_count": 21,
      "metadata": {
        "colab": {
          "base_uri": "https://localhost:8080/"
        },
        "id": "NwSS77f9XnoN",
        "outputId": "af37c169-f857-47ad-fd24-d2e8eb0bb824"
      },
      "outputs": [
        {
          "output_type": "stream",
          "name": "stdout",
          "text": [
            "The testing accuracy is given by: 81.820000\n"
          ]
        }
      ],
      "source": [
        "pred_percept = percept_fashion.predict(X_test_fashion)\n",
        "print('The testing accuracy is given by: %f' % (get_acc(pred_percept, y_test_fashion)))"
      ]
    },
    {
      "cell_type": "markdown",
      "metadata": {
        "id": "pezt_8cWXnoN"
      },
      "source": [
        "### Perceptron_Fashion-MNIST Kaggle Submission\n",
        "\n",
        "Once you are satisfied with your solution and test accuracy, output a file to submit your test set predictions to the Kaggle for Assignment 1 Fashion-MNIST. Use the following code to do so:"
      ]
    },
    {
      "cell_type": "code",
      "execution_count": 22,
      "metadata": {
        "id": "BhydzQktXnoN"
      },
      "outputs": [],
      "source": [
        "output_submission_csv('kaggle/perceptron_submission_fashion.csv', percept_fashion.predict(X_test_fashion))"
      ]
    },
    {
      "cell_type": "markdown",
      "metadata": {
        "id": "z0f-AoHSXnoN"
      },
      "source": [
        "## Train Perceptron on Rice"
      ]
    },
    {
      "cell_type": "code",
      "execution_count": null,
      "metadata": {
        "colab": {
          "base_uri": "https://localhost:8080/"
        },
        "id": "imaCDZYBe30s",
        "outputId": "11df7cd7-bdb3-4cf0-9fdd-2ae29cb67cf1"
      },
      "outputs": [
        {
          "output_type": "stream",
          "name": "stdout",
          "text": [
            "0.8806198952980718\n"
          ]
        }
      ],
      "source": [
        "w = np.random.random(3)\n",
        "x = np.array([3, 2, 1])\n",
        "print(w @ x)"
      ]
    },
    {
      "cell_type": "code",
      "source": [
        "lr = 0.000001\n",
        "n_epochs = 7\n",
        "\n",
        "percept_RICE = Perceptron(n_class_RICE, lr, n_epochs)\n",
        "percept_RICE.train(X_train_RICE, y_train_RICE)    ### !!! y_train_RICE in {0, 1} form\n",
        "# print(y_train_RICE)"
      ],
      "metadata": {
        "colab": {
          "base_uri": "https://localhost:8080/"
        },
        "id": "AjdeSB1WqJ-B",
        "outputId": "6d5fed68-beb2-4896-c7dd-fd82413ef31b"
      },
      "execution_count": null,
      "outputs": [
        {
          "output_type": "stream",
          "name": "stdout",
          "text": [
            "The training accuracy of epoch 0 is 58.50059572908074\n",
            "The training accuracy of epoch 1 is 98.13949225552196\n",
            "The training accuracy of epoch 2 is 94.9042250939419\n",
            "The training accuracy of epoch 3 is 98.62524058289799\n",
            "The training accuracy of epoch 4 is 99.6333974887728\n",
            "The training accuracy of epoch 5 is 99.56924204930803\n",
            "The training accuracy of epoch 6 is 99.01017321968656\n"
          ]
        }
      ]
    },
    {
      "cell_type": "code",
      "execution_count": null,
      "metadata": {
        "colab": {
          "base_uri": "https://localhost:8080/"
        },
        "id": "xd7ycGIHXnoO",
        "outputId": "e2d0e7b0-52a1-4146-97a7-6be987d96312"
      },
      "outputs": [
        {
          "output_type": "stream",
          "name": "stdout",
          "text": [
            "The training accuracy is given by: 99.010173\n"
          ]
        }
      ],
      "source": [
        "pred_percept = percept_RICE.predict(X_train_RICE)\n",
        "print('The training accuracy is given by: %f' % (get_acc(pred_percept, y_train_RICE)))"
      ]
    },
    {
      "cell_type": "markdown",
      "metadata": {
        "id": "0_8ip4DSXnoO"
      },
      "source": [
        "### Validate Perceptron on Rice"
      ]
    },
    {
      "cell_type": "code",
      "execution_count": null,
      "metadata": {
        "colab": {
          "base_uri": "https://localhost:8080/"
        },
        "id": "-zi2k573XnoO",
        "outputId": "55a1f6ad-9313-45bf-f43f-a4836223785c"
      },
      "outputs": [
        {
          "output_type": "stream",
          "name": "stdout",
          "text": [
            "The validation accuracy is given by: 99.230135\n"
          ]
        }
      ],
      "source": [
        "pred_percept = percept_RICE.predict(X_val_RICE)\n",
        "print('The validation accuracy is given by: %f' % (get_acc(pred_percept, y_val_RICE)))    ### !!! y_val_RICE in {0, 1} form"
      ]
    },
    {
      "cell_type": "markdown",
      "metadata": {
        "id": "AME2JItbXnoO"
      },
      "source": [
        "### Test Perceptron on Rice"
      ]
    },
    {
      "cell_type": "code",
      "execution_count": null,
      "metadata": {
        "colab": {
          "base_uri": "https://localhost:8080/"
        },
        "id": "j2rASmSXXnoO",
        "outputId": "cec770fc-03cd-4993-b85e-cafc5c07243d"
      },
      "outputs": [
        {
          "output_type": "stream",
          "name": "stdout",
          "text": [
            "The testing accuracy is given by: 98.955183\n"
          ]
        }
      ],
      "source": [
        "pred_percept = percept_RICE.predict(X_test_RICE)\n",
        "print('The testing accuracy is given by: %f' % (get_acc(pred_percept, y_test_RICE)))"
      ]
    },
    {
      "cell_type": "markdown",
      "metadata": {
        "id": "4MJyTyCGXnoO"
      },
      "source": [
        "# Support Vector Machines (with SGD)"
      ]
    },
    {
      "cell_type": "markdown",
      "metadata": {
        "id": "lamYDrJAXnoO"
      },
      "source": [
        "Next, you will implement a \"soft margin\" SVM. In this formulation you will maximize the margin between positive and negative training examples and penalize margin violations using a hinge loss.\n",
        "\n",
        "We will optimize the SVM loss using SGD. This means you must compute the loss function with respect to model weights. You will use this gradient to update the model weights.\n",
        "\n",
        "SVM optimized with SGD has 3 hyperparameters that you can experiment with:\n",
        "- **Learning rate** - similar to as defined above in Perceptron, this parameter scales by how much the weights are changed according to the calculated gradient update.\n",
        "- **Epochs** - similar to as defined above in Perceptron.\n",
        "- **Regularization constant** - Hyperparameter to determine the strength of regularization. In this case it is a coefficient on the term which maximizes the margin. You could try different values. The default value is set to 0.05."
      ]
    },
    {
      "cell_type": "markdown",
      "metadata": {
        "id": "tRhNIImPXnoO"
      },
      "source": [
        "You will implement the SVM using SGD in the **models/svm.py**\n",
        "\n",
        "The following code:\n",
        "- Creates an instance of the SVM classifier class\n",
        "- The train function of the SVM class is trained on the training data\n",
        "- We use the predict function to find the training accuracy as well as the testing accuracy"
      ]
    },
    {
      "cell_type": "markdown",
      "metadata": {
        "id": "ipXJKN6PXnoO"
      },
      "source": [
        "## Train SVM on Fashion-MNIST"
      ]
    },
    {
      "cell_type": "code",
      "source": [
        "### Best ###\n",
        "\n",
        "lr = 500\n",
        "n_epochs = 100\n",
        "reg_const = 0.001\n",
        "\n",
        "### experiment\n",
        "\n",
        "x = np.linspace(1, n_epochs, n_epochs)\n",
        "y = np.zeros(n_epochs)\n",
        "\n",
        "svm_fashion = SVM(n_class_fashion, lr, 1, reg_const)\n",
        "for epoch in range(n_epochs):\n",
        "  print(\"training epoch {}:\".format(epoch))\n",
        "  svm_fashion.train(X_train_fashion, y_train_fashion)\n",
        "  pred_svm = svm_fashion.predict(X_val_fashion)\n",
        "  print('The validation accuracy is: %f' % (get_acc(pred_svm, y_val_fashion)))\n",
        "  y[epoch] = get_acc(pred_svm, y_val_fashion)\n",
        "  if get_acc(pred_svm, y_val_fashion) > 81.7:\n",
        "    break\n",
        "\n",
        "plt.plot(x, y, 'r-.p')\n",
        "plt.show()\n"
      ],
      "metadata": {
        "colab": {
          "base_uri": "https://localhost:8080/",
          "height": 1000
        },
        "id": "5R_v5aRmGtxr",
        "outputId": "691e2613-f0f0-461b-a627-019303b32dcd"
      },
      "execution_count": null,
      "outputs": [
        {
          "output_type": "stream",
          "name": "stdout",
          "text": [
            "training epoch 0:\n",
            "The training accuracy is 40.716\n",
            "The validation accuracy is: 41.300000\n",
            "training epoch 1:\n",
            "The training accuracy is 65.032\n",
            "The validation accuracy is: 64.760000\n",
            "training epoch 2:\n",
            "The training accuracy is 60.751999999999995\n",
            "The validation accuracy is: 59.950000\n",
            "training epoch 3:\n",
            "The training accuracy is 47.446\n",
            "The validation accuracy is: 47.720000\n",
            "training epoch 4:\n",
            "The training accuracy is 29.24\n",
            "The validation accuracy is: 28.680000\n",
            "training epoch 5:\n",
            "The training accuracy is 44.152\n",
            "The validation accuracy is: 43.370000\n",
            "training epoch 6:\n",
            "The training accuracy is 39.391999999999996\n",
            "The validation accuracy is: 39.230000\n",
            "training epoch 7:\n",
            "The training accuracy is 50.246\n",
            "The validation accuracy is: 50.370000\n",
            "training epoch 8:\n",
            "The training accuracy is 27.886\n",
            "The validation accuracy is: 27.650000\n",
            "training epoch 9:\n",
            "The training accuracy is 42.344\n",
            "The validation accuracy is: 42.490000\n",
            "training epoch 10:\n",
            "The training accuracy is 49.402\n",
            "The validation accuracy is: 49.130000\n",
            "training epoch 11:\n",
            "The training accuracy is 57.644\n",
            "The validation accuracy is: 58.200000\n",
            "training epoch 12:\n",
            "The training accuracy is 43.442\n",
            "The validation accuracy is: 42.420000\n",
            "training epoch 13:\n",
            "The training accuracy is 54.449999999999996\n",
            "The validation accuracy is: 54.490000\n",
            "training epoch 14:\n",
            "The training accuracy is 41.124\n",
            "The validation accuracy is: 40.610000\n",
            "training epoch 15:\n",
            "The training accuracy is 39.934\n",
            "The validation accuracy is: 40.100000\n",
            "training epoch 16:\n",
            "The training accuracy is 41.958\n",
            "The validation accuracy is: 41.780000\n",
            "training epoch 17:\n",
            "The training accuracy is 61.288\n",
            "The validation accuracy is: 61.200000\n",
            "training epoch 18:\n",
            "The training accuracy is 48.404\n",
            "The validation accuracy is: 48.310000\n",
            "training epoch 19:\n",
            "The training accuracy is 51.158\n",
            "The validation accuracy is: 50.930000\n",
            "training epoch 20:\n",
            "The training accuracy is 39.648\n",
            "The validation accuracy is: 39.380000\n",
            "training epoch 21:\n",
            "The training accuracy is 60.150000000000006\n",
            "The validation accuracy is: 59.270000\n",
            "training epoch 22:\n",
            "The training accuracy is 69.162\n",
            "The validation accuracy is: 68.660000\n",
            "training epoch 23:\n",
            "The training accuracy is 66.52\n",
            "The validation accuracy is: 66.220000\n",
            "training epoch 24:\n",
            "The training accuracy is 52.172\n",
            "The validation accuracy is: 51.890000\n",
            "training epoch 25:\n",
            "The training accuracy is 56.864000000000004\n",
            "The validation accuracy is: 56.650000\n",
            "training epoch 26:\n",
            "The training accuracy is 36.58\n",
            "The validation accuracy is: 36.120000\n",
            "training epoch 27:\n",
            "The training accuracy is 60.232\n",
            "The validation accuracy is: 59.770000\n",
            "training epoch 28:\n",
            "The training accuracy is 65.632\n",
            "The validation accuracy is: 64.730000\n",
            "training epoch 29:\n",
            "The training accuracy is 60.88\n",
            "The validation accuracy is: 60.540000\n",
            "training epoch 30:\n",
            "The training accuracy is 57.504\n",
            "The validation accuracy is: 56.220000\n",
            "training epoch 31:\n",
            "The training accuracy is 71.76\n",
            "The validation accuracy is: 71.390000\n",
            "training epoch 32:\n",
            "The training accuracy is 71.004\n",
            "The validation accuracy is: 70.150000\n",
            "training epoch 33:\n",
            "The training accuracy is 63.861999999999995\n",
            "The validation accuracy is: 63.420000\n",
            "training epoch 34:\n",
            "The training accuracy is 52.23799999999999\n",
            "The validation accuracy is: 51.910000\n",
            "training epoch 35:\n",
            "The training accuracy is 57.065999999999995\n",
            "The validation accuracy is: 57.030000\n",
            "training epoch 36:\n",
            "The training accuracy is 46.844\n",
            "The validation accuracy is: 46.680000\n",
            "training epoch 37:\n",
            "The training accuracy is 62.739999999999995\n",
            "The validation accuracy is: 62.460000\n",
            "training epoch 38:\n",
            "The training accuracy is 71.06\n",
            "The validation accuracy is: 70.250000\n",
            "training epoch 39:\n",
            "The training accuracy is 73.996\n",
            "The validation accuracy is: 73.580000\n",
            "training epoch 40:\n",
            "The training accuracy is 74.95\n",
            "The validation accuracy is: 74.460000\n",
            "training epoch 41:\n",
            "The training accuracy is 72.47200000000001\n",
            "The validation accuracy is: 71.770000\n",
            "training epoch 42:\n",
            "The training accuracy is 61.907999999999994\n",
            "The validation accuracy is: 61.300000\n",
            "training epoch 43:\n",
            "The training accuracy is 66.13\n",
            "The validation accuracy is: 65.390000\n",
            "training epoch 44:\n",
            "The training accuracy is 53.644000000000005\n",
            "The validation accuracy is: 53.230000\n",
            "training epoch 45:\n",
            "The training accuracy is 60.773999999999994\n",
            "The validation accuracy is: 60.150000\n",
            "training epoch 46:\n",
            "The training accuracy is 54.568000000000005\n",
            "The validation accuracy is: 54.250000\n",
            "training epoch 47:\n",
            "The training accuracy is 70.87400000000001\n",
            "The validation accuracy is: 69.910000\n",
            "training epoch 48:\n",
            "The training accuracy is 73.68400000000001\n",
            "The validation accuracy is: 72.470000\n",
            "training epoch 49:\n",
            "The training accuracy is 77.338\n",
            "The validation accuracy is: 76.670000\n",
            "training epoch 50:\n",
            "The training accuracy is 74.876\n",
            "The validation accuracy is: 73.990000\n",
            "training epoch 51:\n",
            "The training accuracy is 76.98\n",
            "The validation accuracy is: 76.780000\n",
            "training epoch 52:\n",
            "The training accuracy is 79.318\n",
            "The validation accuracy is: 78.370000\n",
            "training epoch 53:\n",
            "The training accuracy is 80.464\n",
            "The validation accuracy is: 79.550000\n",
            "training epoch 54:\n",
            "The training accuracy is 77.69200000000001\n",
            "The validation accuracy is: 76.890000\n",
            "training epoch 55:\n",
            "The training accuracy is 78.846\n",
            "The validation accuracy is: 78.190000\n",
            "training epoch 56:\n",
            "The training accuracy is 81.07799999999999\n",
            "The validation accuracy is: 80.110000\n",
            "training epoch 57:\n",
            "The training accuracy is 81.316\n",
            "The validation accuracy is: 80.650000\n",
            "training epoch 58:\n",
            "The training accuracy is 81.136\n",
            "The validation accuracy is: 80.540000\n",
            "training epoch 59:\n",
            "The training accuracy is 80.83399999999999\n",
            "The validation accuracy is: 80.350000\n",
            "training epoch 60:\n",
            "The training accuracy is 80.174\n",
            "The validation accuracy is: 79.250000\n",
            "training epoch 61:\n",
            "The training accuracy is 80.484\n",
            "The validation accuracy is: 80.040000\n",
            "training epoch 62:\n",
            "The training accuracy is 77.726\n",
            "The validation accuracy is: 76.800000\n",
            "training epoch 63:\n",
            "The training accuracy is 77.656\n",
            "The validation accuracy is: 77.250000\n",
            "training epoch 64:\n",
            "The training accuracy is 75.198\n",
            "The validation accuracy is: 74.390000\n",
            "training epoch 65:\n",
            "The training accuracy is 79.11200000000001\n",
            "The validation accuracy is: 78.770000\n",
            "training epoch 66:\n",
            "The training accuracy is 81.37\n",
            "The validation accuracy is: 80.350000\n",
            "training epoch 67:\n",
            "The training accuracy is 82.08\n",
            "The validation accuracy is: 81.240000\n",
            "training epoch 68:\n",
            "The training accuracy is 82.584\n",
            "The validation accuracy is: 81.820000\n"
          ]
        },
        {
          "output_type": "display_data",
          "data": {
            "text/plain": [
              "<Figure size 640x480 with 1 Axes>"
            ],
            "image/png": "[encoded data removed]"
          },
          "metadata": {}
        }
      ]
    },
    {
      "cell_type": "code",
      "source": [
        "import matplotlib.pyplot as plt\n",
        "lr = 5\n",
        "n_epochs = 100\n",
        "reg_const = 0.01\n",
        "\n",
        "### experiment\n",
        "\n",
        "x = np.linspace(1, n_epochs, n_epochs)\n",
        "y = np.zeros(n_epochs)\n",
        "\n",
        "svm_fashion = SVM(n_class_fashion, lr, 1, reg_const)\n",
        "for epoch in range(n_epochs):\n",
        "  print(\"training epoch {}:\".format(epoch))\n",
        "  svm_fashion.train(X_train_fashion, y_train_fashion)\n",
        "  pred_svm = svm_fashion.predict(X_val_fashion)\n",
        "  print('The validation accuracy is: %f' % (get_acc(pred_svm, y_val_fashion)))\n",
        "  y[epoch] = get_acc(pred_svm, y_val_fashion)\n",
        "\n",
        "plt.plot(x, y, 'r-.p')\n",
        "plt.show()"
      ],
      "metadata": {
        "colab": {
          "base_uri": "https://localhost:8080/",
          "height": 601
        },
        "id": "XW6GdmUfz0n9",
        "outputId": "c6eadcaf-58f7-4751-9320-3dd4bcca2a7e"
      },
      "execution_count": null,
      "outputs": [
        {
          "output_type": "stream",
          "name": "stdout",
          "text": [
            "training epoch 0:\n",
            "The training accuracy is 40.716\n",
            "The validation accuracy is: 41.300000\n",
            "training epoch 1:\n",
            "The training accuracy is 52.896\n",
            "The validation accuracy is: 53.680000\n",
            "training epoch 2:\n",
            "The training accuracy is 65.086\n",
            "The validation accuracy is: 65.080000\n",
            "training epoch 3:\n",
            "The training accuracy is 68.518\n",
            "The validation accuracy is: 68.410000\n",
            "training epoch 4:\n",
            "The training accuracy is 70.258\n",
            "The validation accuracy is: 70.310000\n",
            "training epoch 5:\n",
            "The training accuracy is 71.286\n"
          ]
        },
        {
          "output_type": "error",
          "ename": "KeyboardInterrupt",
          "evalue": "",
          "traceback": [
            "\u001b[0;31m---------------------------------------------------------------------------\u001b[0m",
            "\u001b[0;31mKeyboardInterrupt\u001b[0m                         Traceback (most recent call last)",
            "\u001b[0;32m<ipython-input-137-eee1871f0ef5>\u001b[0m in \u001b[0;36m<cell line: 12>\u001b[0;34m()\u001b[0m\n\u001b[1;32m     13\u001b[0m   \u001b[0mprint\u001b[0m\u001b[0;34m(\u001b[0m\u001b[0;34m\"training epoch {}:\"\u001b[0m\u001b[0;34m.\u001b[0m\u001b[0mformat\u001b[0m\u001b[0;34m(\u001b[0m\u001b[0mepoch\u001b[0m\u001b[0;34m)\u001b[0m\u001b[0;34m)\u001b[0m\u001b[0;34m\u001b[0m\u001b[0;34m\u001b[0m\u001b[0m\n\u001b[1;32m     14\u001b[0m   \u001b[0msvm_fashion\u001b[0m\u001b[0;34m.\u001b[0m\u001b[0mtrain\u001b[0m\u001b[0;34m(\u001b[0m\u001b[0mX_train_fashion\u001b[0m\u001b[0;34m,\u001b[0m \u001b[0my_train_fashion\u001b[0m\u001b[0;34m)\u001b[0m\u001b[0;34m\u001b[0m\u001b[0;34m\u001b[0m\u001b[0m\n\u001b[0;32m---> 15\u001b[0;31m   \u001b[0mpred_svm\u001b[0m \u001b[0;34m=\u001b[0m \u001b[0msvm_fashion\u001b[0m\u001b[0;34m.\u001b[0m\u001b[0mpredict\u001b[0m\u001b[0;34m(\u001b[0m\u001b[0mX_val_fashion\u001b[0m\u001b[0;34m)\u001b[0m\u001b[0;34m\u001b[0m\u001b[0;34m\u001b[0m\u001b[0m\n\u001b[0m\u001b[1;32m     16\u001b[0m   \u001b[0mprint\u001b[0m\u001b[0;34m(\u001b[0m\u001b[0;34m'The validation accuracy is: %f'\u001b[0m \u001b[0;34m%\u001b[0m \u001b[0;34m(\u001b[0m\u001b[0mget_acc\u001b[0m\u001b[0;34m(\u001b[0m\u001b[0mpred_svm\u001b[0m\u001b[0;34m,\u001b[0m \u001b[0my_val_fashion\u001b[0m\u001b[0;34m)\u001b[0m\u001b[0;34m)\u001b[0m\u001b[0;34m)\u001b[0m\u001b[0;34m\u001b[0m\u001b[0;34m\u001b[0m\u001b[0m\n\u001b[1;32m     17\u001b[0m   \u001b[0my\u001b[0m\u001b[0;34m[\u001b[0m\u001b[0mepoch\u001b[0m\u001b[0;34m]\u001b[0m \u001b[0;34m=\u001b[0m \u001b[0mget_acc\u001b[0m\u001b[0;34m(\u001b[0m\u001b[0mpred_svm\u001b[0m\u001b[0;34m,\u001b[0m \u001b[0my_val_fashion\u001b[0m\u001b[0;34m)\u001b[0m\u001b[0;34m\u001b[0m\u001b[0;34m\u001b[0m\u001b[0m\n",
            "\u001b[0;32m/content/drive/MyDrive/CS444/assignment1/models/svm.py\u001b[0m in \u001b[0;36mpredict\u001b[0;34m(self, X_test)\u001b[0m\n\u001b[1;32m    172\u001b[0m         \u001b[0;32melse\u001b[0m\u001b[0;34m:\u001b[0m\u001b[0;34m\u001b[0m\u001b[0;34m\u001b[0m\u001b[0m\n\u001b[1;32m    173\u001b[0m             \u001b[0mWX\u001b[0m \u001b[0;34m=\u001b[0m \u001b[0mX_use\u001b[0m \u001b[0;34m@\u001b[0m \u001b[0mself\u001b[0m\u001b[0;34m.\u001b[0m\u001b[0mw\u001b[0m\u001b[0;34m\u001b[0m\u001b[0;34m\u001b[0m\u001b[0m\n\u001b[0;32m--> 174\u001b[0;31m             \u001b[0mresult\u001b[0m \u001b[0;34m=\u001b[0m \u001b[0mnp\u001b[0m\u001b[0;34m.\u001b[0m\u001b[0margmax\u001b[0m\u001b[0;34m(\u001b[0m\u001b[0mWX\u001b[0m\u001b[0;34m,\u001b[0m \u001b[0maxis\u001b[0m\u001b[0;34m=\u001b[0m\u001b[0;36m1\u001b[0m\u001b[0;34m)\u001b[0m\u001b[0;34m\u001b[0m\u001b[0;34m\u001b[0m\u001b[0m\n\u001b[0m\u001b[1;32m    175\u001b[0m \u001b[0;34m\u001b[0m\u001b[0m\n\u001b[1;32m    176\u001b[0m         \u001b[0;32mreturn\u001b[0m \u001b[0mresult\u001b[0m\u001b[0;34m\u001b[0m\u001b[0;34m\u001b[0m\u001b[0m\n",
            "\u001b[0;32m/usr/local/lib/python3.10/dist-packages/numpy/core/overrides.py\u001b[0m in \u001b[0;36margmax\u001b[0;34m(*args, **kwargs)\u001b[0m\n",
            "\u001b[0;31mKeyboardInterrupt\u001b[0m: "
          ]
        }
      ]
    },
    {
      "cell_type": "code",
      "execution_count": null,
      "metadata": {
        "colab": {
          "base_uri": "https://localhost:8080/"
        },
        "id": "bbHuB_NCXnoV",
        "outputId": "db548b72-896f-45cc-ca68-636a9cb2ffd9"
      },
      "outputs": [
        {
          "output_type": "stream",
          "name": "stdout",
          "text": [
            "The training accuracy is given by: 82.584000\n"
          ]
        }
      ],
      "source": [
        "pred_svm = svm_fashion.predict(X_train_fashion)\n",
        "print('The training accuracy is given by: %f' % (get_acc(pred_svm, y_train_fashion)))"
      ]
    },
    {
      "cell_type": "markdown",
      "metadata": {
        "id": "uMxxCnYrXnoV"
      },
      "source": [
        "### Validate SVM on Fashion-MNIST"
      ]
    },
    {
      "cell_type": "code",
      "execution_count": null,
      "metadata": {
        "colab": {
          "base_uri": "https://localhost:8080/"
        },
        "id": "cBPRP6hcXnoV",
        "outputId": "e61fae42-7f95-45f8-b522-e592e8941f40"
      },
      "outputs": [
        {
          "output_type": "stream",
          "name": "stdout",
          "text": [
            "The validation accuracy is given by: 81.820000\n"
          ]
        }
      ],
      "source": [
        "pred_svm = svm_fashion.predict(X_val_fashion)\n",
        "print('The validation accuracy is given by: %f' % (get_acc(pred_svm, y_val_fashion)))"
      ]
    },
    {
      "cell_type": "markdown",
      "metadata": {
        "id": "cUsPhAkaXnoV"
      },
      "source": [
        "### Test SVM on Fashion-MNIST"
      ]
    },
    {
      "cell_type": "code",
      "execution_count": null,
      "metadata": {
        "colab": {
          "base_uri": "https://localhost:8080/"
        },
        "id": "egWHCoJBXnoV",
        "outputId": "66ac933c-879d-4f1d-b050-ebb61904e41d"
      },
      "outputs": [
        {
          "output_type": "stream",
          "name": "stdout",
          "text": [
            "The testing accuracy is given by: 81.370000\n"
          ]
        }
      ],
      "source": [
        "pred_svm = svm_fashion.predict(X_test_fashion)\n",
        "print('The testing accuracy is given by: %f' % (get_acc(pred_svm, y_test_fashion)))"
      ]
    },
    {
      "cell_type": "markdown",
      "metadata": {
        "id": "FKvZL9HkXnoW"
      },
      "source": [
        "### SVM_Fashion-MNIST Kaggle Submission\n",
        "\n",
        "Once you are satisfied with your solution and test accuracy output a file to submit your test set predictions to the Kaggle for Assignment 1 Fashion-MNIST. Use the following code to do so:"
      ]
    },
    {
      "cell_type": "code",
      "execution_count": null,
      "metadata": {
        "id": "KyOJPK_FXnoW"
      },
      "outputs": [],
      "source": [
        "output_submission_csv('kaggle/svm_submission_fashion.csv', svm_fashion.predict(X_test_fashion))"
      ]
    },
    {
      "cell_type": "markdown",
      "metadata": {
        "id": "XgnF5UiiXnoW"
      },
      "source": [
        "## Train SVM on Rice"
      ]
    },
    {
      "cell_type": "code",
      "source": [
        "### Best ###\n",
        "lr = 0.5\n",
        "n_epochs = 100\n",
        "reg_const = 0.001\n",
        "\n",
        "svm_RICE = SVM(n_class_RICE, lr, n_epochs, reg_const)\n",
        "svm_RICE.train(X_train_RICE, y_train_RICE)"
      ],
      "metadata": {
        "colab": {
          "base_uri": "https://localhost:8080/"
        },
        "id": "qlwmH7GiV_Ts",
        "outputId": "eda1e36b-6d02-440e-e854-7aac97999930"
      },
      "execution_count": null,
      "outputs": [
        {
          "output_type": "stream",
          "name": "stdout",
          "text": [
            "Doing binary classification.\n",
            "The training accuracy is 16.689579323618368\n",
            "Doing binary classification.\n",
            "The training accuracy is 33.66327559343782\n",
            "Doing binary classification.\n",
            "The training accuracy is 72.55980203464394\n",
            "Doing binary classification.\n",
            "The training accuracy is 97.60791861424251\n",
            "Doing binary classification.\n",
            "The training accuracy is 99.2209696636422\n",
            "Doing binary classification.\n",
            "The training accuracy is 99.79836861882504\n",
            "Doing binary classification.\n",
            "The training accuracy is 99.91751443497388\n",
            "Doing binary classification.\n",
            "The training accuracy is 99.96333974887727\n",
            "Doing binary classification.\n",
            "The training accuracy is 99.98166987443864\n",
            "Doing binary classification.\n",
            "The training accuracy is 99.99083493721932\n",
            "Doing binary classification.\n",
            "The training accuracy is 99.99083493721932\n",
            "Doing binary classification.\n",
            "The training accuracy is 99.99083493721932\n",
            "Doing binary classification.\n",
            "The training accuracy is 99.99083493721932\n",
            "Doing binary classification.\n",
            "The training accuracy is 99.99083493721932\n",
            "Doing binary classification.\n",
            "The training accuracy is 99.99083493721932\n",
            "Doing binary classification.\n",
            "The training accuracy is 99.99083493721932\n",
            "Doing binary classification.\n",
            "The training accuracy is 99.99083493721932\n",
            "Doing binary classification.\n",
            "The training accuracy is 99.99083493721932\n",
            "Doing binary classification.\n",
            "The training accuracy is 99.99083493721932\n",
            "Doing binary classification.\n",
            "The training accuracy is 99.99083493721932\n",
            "Doing binary classification.\n",
            "The training accuracy is 100.0\n",
            "Doing binary classification.\n",
            "The training accuracy is 100.0\n",
            "Doing binary classification.\n",
            "The training accuracy is 100.0\n",
            "Doing binary classification.\n",
            "The training accuracy is 100.0\n",
            "Doing binary classification.\n",
            "The training accuracy is 100.0\n",
            "Doing binary classification.\n",
            "The training accuracy is 100.0\n",
            "Doing binary classification.\n",
            "The training accuracy is 100.0\n",
            "Doing binary classification.\n",
            "The training accuracy is 100.0\n",
            "Doing binary classification.\n",
            "The training accuracy is 100.0\n",
            "Doing binary classification.\n",
            "The training accuracy is 100.0\n",
            "Doing binary classification.\n",
            "The training accuracy is 100.0\n",
            "Doing binary classification.\n",
            "The training accuracy is 100.0\n",
            "Doing binary classification.\n",
            "The training accuracy is 100.0\n",
            "Doing binary classification.\n",
            "The training accuracy is 100.0\n",
            "Doing binary classification.\n",
            "The training accuracy is 100.0\n",
            "Doing binary classification.\n",
            "The training accuracy is 100.0\n",
            "Doing binary classification.\n",
            "The training accuracy is 100.0\n",
            "Doing binary classification.\n",
            "The training accuracy is 100.0\n",
            "Doing binary classification.\n",
            "The training accuracy is 100.0\n",
            "Doing binary classification.\n",
            "The training accuracy is 100.0\n",
            "Doing binary classification.\n",
            "The training accuracy is 100.0\n",
            "Doing binary classification.\n",
            "The training accuracy is 100.0\n",
            "Doing binary classification.\n",
            "The training accuracy is 100.0\n",
            "Doing binary classification.\n",
            "The training accuracy is 100.0\n",
            "Doing binary classification.\n",
            "The training accuracy is 100.0\n",
            "Doing binary classification.\n",
            "The training accuracy is 100.0\n",
            "Doing binary classification.\n",
            "The training accuracy is 100.0\n",
            "Doing binary classification.\n",
            "The training accuracy is 100.0\n",
            "Doing binary classification.\n",
            "The training accuracy is 100.0\n",
            "Doing binary classification.\n",
            "The training accuracy is 100.0\n",
            "Doing binary classification.\n",
            "The training accuracy is 100.0\n",
            "Doing binary classification.\n",
            "The training accuracy is 100.0\n",
            "Doing binary classification.\n",
            "The training accuracy is 100.0\n",
            "Doing binary classification.\n",
            "The training accuracy is 100.0\n",
            "Doing binary classification.\n",
            "The training accuracy is 100.0\n",
            "Doing binary classification.\n",
            "The training accuracy is 100.0\n",
            "Doing binary classification.\n",
            "The training accuracy is 100.0\n",
            "Doing binary classification.\n",
            "The training accuracy is 100.0\n",
            "Doing binary classification.\n",
            "The training accuracy is 100.0\n",
            "Doing binary classification.\n",
            "The training accuracy is 100.0\n",
            "Doing binary classification.\n",
            "The training accuracy is 100.0\n",
            "Doing binary classification.\n",
            "The training accuracy is 100.0\n",
            "Doing binary classification.\n",
            "The training accuracy is 100.0\n",
            "Doing binary classification.\n",
            "The training accuracy is 100.0\n",
            "Doing binary classification.\n",
            "The training accuracy is 100.0\n",
            "Doing binary classification.\n",
            "The training accuracy is 100.0\n",
            "Doing binary classification.\n",
            "The training accuracy is 100.0\n",
            "Doing binary classification.\n",
            "The training accuracy is 100.0\n",
            "Doing binary classification.\n",
            "The training accuracy is 100.0\n",
            "Doing binary classification.\n",
            "The training accuracy is 100.0\n",
            "Doing binary classification.\n",
            "The training accuracy is 100.0\n",
            "Doing binary classification.\n",
            "The training accuracy is 100.0\n",
            "Doing binary classification.\n",
            "The training accuracy is 100.0\n",
            "Doing binary classification.\n",
            "The training accuracy is 100.0\n",
            "Doing binary classification.\n",
            "The training accuracy is 100.0\n",
            "Doing binary classification.\n",
            "The training accuracy is 100.0\n",
            "Doing binary classification.\n",
            "The training accuracy is 100.0\n",
            "Doing binary classification.\n",
            "The training accuracy is 100.0\n",
            "Doing binary classification.\n",
            "The training accuracy is 100.0\n",
            "Doing binary classification.\n",
            "The training accuracy is 100.0\n",
            "Doing binary classification.\n",
            "The training accuracy is 100.0\n",
            "Doing binary classification.\n",
            "The training accuracy is 100.0\n",
            "Doing binary classification.\n",
            "The training accuracy is 100.0\n",
            "Doing binary classification.\n",
            "The training accuracy is 100.0\n",
            "Doing binary classification.\n",
            "The training accuracy is 100.0\n",
            "Doing binary classification.\n",
            "The training accuracy is 100.0\n",
            "Doing binary classification.\n",
            "The training accuracy is 100.0\n",
            "Doing binary classification.\n",
            "The training accuracy is 100.0\n",
            "Doing binary classification.\n",
            "The training accuracy is 100.0\n",
            "Doing binary classification.\n",
            "The training accuracy is 100.0\n",
            "Doing binary classification.\n",
            "The training accuracy is 100.0\n",
            "Doing binary classification.\n",
            "The training accuracy is 100.0\n",
            "Doing binary classification.\n",
            "The training accuracy is 100.0\n",
            "Doing binary classification.\n",
            "The training accuracy is 100.0\n",
            "Doing binary classification.\n",
            "The training accuracy is 100.0\n",
            "Doing binary classification.\n",
            "The training accuracy is 100.0\n",
            "Doing binary classification.\n",
            "The training accuracy is 100.0\n",
            "Doing binary classification.\n",
            "The training accuracy is 100.0\n",
            "Doing binary classification.\n",
            "The training accuracy is 100.0\n",
            "Doing binary classification.\n",
            "The training accuracy is 100.0\n"
          ]
        }
      ]
    },
    {
      "cell_type": "code",
      "execution_count": null,
      "metadata": {
        "id": "nIREze01XnoW",
        "colab": {
          "base_uri": "https://localhost:8080/"
        },
        "outputId": "71dcd1dc-cb06-4b6a-e88a-0c62d0e77da9"
      },
      "outputs": [
        {
          "output_type": "stream",
          "name": "stdout",
          "text": [
            "The training accuracy is given by: 100.000000\n"
          ]
        }
      ],
      "source": [
        "pred_svm = svm_RICE.predict(X_train_RICE)\n",
        "print('The training accuracy is given by: %f' % (get_acc(pred_svm, y_train_RICE)))"
      ]
    },
    {
      "cell_type": "markdown",
      "metadata": {
        "id": "ovZVmzswXnoW"
      },
      "source": [
        "### Validate SVM on Rice"
      ]
    },
    {
      "cell_type": "code",
      "execution_count": null,
      "metadata": {
        "id": "38h4KZtmXnoW",
        "colab": {
          "base_uri": "https://localhost:8080/"
        },
        "outputId": "7c551365-41ca-4dfc-9210-832441314faf"
      },
      "outputs": [
        {
          "output_type": "stream",
          "name": "stdout",
          "text": [
            "The validation accuracy is given by: 99.917514\n"
          ]
        }
      ],
      "source": [
        "pred_svm = svm_RICE.predict(X_val_RICE)\n",
        "print('The validation accuracy is given by: %f' % (get_acc(pred_svm, y_val_RICE)))"
      ]
    },
    {
      "cell_type": "markdown",
      "metadata": {
        "id": "MnBInk-FXnoW"
      },
      "source": [
        "## Test SVM on Rice"
      ]
    },
    {
      "cell_type": "code",
      "execution_count": null,
      "metadata": {
        "id": "jnLiQB2JXnoW",
        "colab": {
          "base_uri": "https://localhost:8080/"
        },
        "outputId": "c74b1a49-7479-408f-c9c1-6de098bc08d1"
      },
      "outputs": [
        {
          "output_type": "stream",
          "name": "stdout",
          "text": [
            "The testing accuracy is given by: 100.000000\n"
          ]
        }
      ],
      "source": [
        "pred_svm = svm_RICE.predict(X_test_RICE)\n",
        "print('The testing accuracy is given by: %f' % (get_acc(pred_svm, y_test_RICE)))"
      ]
    },
    {
      "cell_type": "markdown",
      "metadata": {
        "id": "1i0YhDARXnoX"
      },
      "source": [
        "# Softmax Classifier (with SGD)"
      ]
    },
    {
      "cell_type": "markdown",
      "metadata": {
        "collapsed": true,
        "id": "64AExSE1XnoX"
      },
      "source": [
        "Next, you will train a Softmax classifier. This classifier consists of a linear function of the input data followed by a softmax function which outputs a vector of dimension C (number of classes) for each data point. Each entry of the softmax output vector corresponds to a confidence in one of the C classes, and like a probability distribution, the entries of the output vector sum to 1. We use a cross-entropy loss on this sotmax output to train the model.\n",
        "\n",
        "Check the following link as an additional resource on softmax classification: http://cs231n.github.io/linear-classify/#softmax\n",
        "\n",
        "Once again we will train the classifier with SGD. This means you need to compute the gradients of the softmax cross-entropy loss function according to the weights and update the weights using this gradient. Check the following link to help with implementing the gradient updates: https://deepnotes.io/softmax-crossentropy"
      ]
    },
    {
      "cell_type": "markdown",
      "metadata": {
        "id": "tA8-PYF9XnoX"
      },
      "source": [
        "The softmax classifier has 3 hyperparameters that you can experiment with:\n",
        "- **Learning rate** - As above, this controls how much the model weights are updated with respect to their gradient.\n",
        "- **Number of Epochs** - As described for perceptron.\n",
        "- **Regularization constant** - Hyperparameter to determine the strength of regularization. In this case, we minimize the L2 norm of the model weights as regularization, so the regularization constant is a coefficient on the L2 norm in the combined cross-entropy and regularization objective."
      ]
    },
    {
      "cell_type": "markdown",
      "metadata": {
        "id": "gIGCW68lXnoX"
      },
      "source": [
        "You will implement a softmax classifier using SGD in the **models/softmax.py**\n",
        "\n",
        "The following code:\n",
        "- Creates an instance of the Softmax classifier class\n",
        "- The train function of the Softmax class is trained on the training data\n",
        "- We use the predict function to find the training accuracy as well as the testing accuracy"
      ]
    },
    {
      "cell_type": "markdown",
      "metadata": {
        "id": "ycqVl1wHXnoX"
      },
      "source": [
        "## Train Softmax on Fashion-MNIST"
      ]
    },
    {
      "cell_type": "code",
      "source": [
        "# a = np.array([[1,2,3], [4,5,6]])\n",
        "# b = a - np.max(a, axis=1, keepdims=True)\n",
        "# print(b)\n",
        "# print(np.sum(b, axis=1, keepdims=True))\n",
        "# print(b / np.sum(b, axis=1, keepdims=True))\n",
        "\n",
        "c = np.array([1,2,3,4,5]).reshape([-1,1])\n",
        "c = np.append(-c,c,axis=1)\n",
        "print(c)\n",
        "print(np.argmax(c, axis=1))\n",
        "print(c[1][0])\n"
      ],
      "metadata": {
        "colab": {
          "base_uri": "https://localhost:8080/"
        },
        "id": "hFk0H4DlfN4E",
        "outputId": "9fb115be-a878-441c-f48e-eb94c16cacc9"
      },
      "execution_count": null,
      "outputs": [
        {
          "output_type": "stream",
          "name": "stdout",
          "text": [
            "[[-1  1]\n",
            " [-2  2]\n",
            " [-3  3]\n",
            " [-4  4]\n",
            " [-5  5]]\n",
            "[1 1 1 1 1]\n",
            "-2\n"
          ]
        }
      ]
    },
    {
      "cell_type": "code",
      "execution_count": null,
      "metadata": {
        "id": "HY33vvzGXnoX",
        "colab": {
          "base_uri": "https://localhost:8080/",
          "height": 1000
        },
        "outputId": "c05614fd-a6d3-4847-8fb5-d0a96ea581dd"
      },
      "outputs": [
        {
          "output_type": "stream",
          "name": "stdout",
          "text": [
            "training epoch 0:\n",
            "The training accuracy is 36.53\n",
            "The validation accuracy is: 36.930000\n",
            "training epoch 1:\n",
            "The training accuracy is 32.766\n",
            "The validation accuracy is: 32.460000\n",
            "training epoch 2:\n",
            "The training accuracy is 36.403999999999996\n",
            "The validation accuracy is: 36.900000\n",
            "training epoch 3:\n",
            "The training accuracy is 28.471999999999998\n",
            "The validation accuracy is: 27.680000\n",
            "training epoch 4:\n",
            "The training accuracy is 30.962\n",
            "The validation accuracy is: 31.370000\n",
            "training epoch 5:\n",
            "The training accuracy is 40.932\n",
            "The validation accuracy is: 40.590000\n",
            "training epoch 6:\n",
            "The training accuracy is 38.99\n",
            "The validation accuracy is: 39.540000\n",
            "training epoch 7:\n",
            "The training accuracy is 34.748000000000005\n",
            "The validation accuracy is: 33.940000\n",
            "training epoch 8:\n",
            "The training accuracy is 41.815999999999995\n",
            "The validation accuracy is: 42.140000\n",
            "training epoch 9:\n",
            "The training accuracy is 35.221999999999994\n",
            "The validation accuracy is: 34.670000\n",
            "training epoch 10:\n",
            "The training accuracy is 48.077999999999996\n",
            "The validation accuracy is: 47.720000\n",
            "training epoch 11:\n",
            "The training accuracy is 48.386\n",
            "The validation accuracy is: 48.210000\n",
            "training epoch 12:\n",
            "The training accuracy is 47.63\n",
            "The validation accuracy is: 48.380000\n",
            "training epoch 13:\n",
            "The training accuracy is 44.73\n",
            "The validation accuracy is: 44.280000\n",
            "training epoch 14:\n",
            "The training accuracy is 38.416\n",
            "The validation accuracy is: 38.630000\n",
            "training epoch 15:\n",
            "The training accuracy is 48.446\n",
            "The validation accuracy is: 48.810000\n",
            "training epoch 16:\n",
            "The training accuracy is 48.63\n",
            "The validation accuracy is: 49.150000\n",
            "training epoch 17:\n",
            "The training accuracy is 39.566\n",
            "The validation accuracy is: 39.360000\n",
            "training epoch 18:\n",
            "The training accuracy is 46.048\n",
            "The validation accuracy is: 46.880000\n",
            "training epoch 19:\n",
            "The training accuracy is 51.184\n",
            "The validation accuracy is: 50.750000\n",
            "training epoch 20:\n",
            "The training accuracy is 45.198\n",
            "The validation accuracy is: 46.210000\n",
            "training epoch 21:\n",
            "The training accuracy is 44.598\n",
            "The validation accuracy is: 43.260000\n",
            "training epoch 22:\n",
            "The training accuracy is 58.650000000000006\n",
            "The validation accuracy is: 59.200000\n",
            "training epoch 23:\n",
            "The training accuracy is 57.406\n",
            "The validation accuracy is: 56.310000\n",
            "training epoch 24:\n",
            "The training accuracy is 57.784\n",
            "The validation accuracy is: 57.970000\n",
            "training epoch 25:\n",
            "The training accuracy is 42.412\n",
            "The validation accuracy is: 42.390000\n",
            "training epoch 26:\n",
            "The training accuracy is 40.636\n",
            "The validation accuracy is: 40.840000\n",
            "training epoch 27:\n",
            "The training accuracy is 51.1\n",
            "The validation accuracy is: 51.520000\n",
            "training epoch 28:\n",
            "The training accuracy is 57.724\n",
            "The validation accuracy is: 57.080000\n",
            "training epoch 29:\n",
            "The training accuracy is 56.138\n",
            "The validation accuracy is: 56.200000\n",
            "training epoch 30:\n",
            "The training accuracy is 55.135999999999996\n",
            "The validation accuracy is: 54.210000\n",
            "training epoch 31:\n",
            "The training accuracy is 62.446\n",
            "The validation accuracy is: 62.700000\n",
            "training epoch 32:\n",
            "The training accuracy is 62.926\n",
            "The validation accuracy is: 63.120000\n",
            "training epoch 33:\n",
            "The training accuracy is 60.653999999999996\n",
            "The validation accuracy is: 60.140000\n",
            "training epoch 34:\n",
            "The training accuracy is 50.153999999999996\n",
            "The validation accuracy is: 50.160000\n",
            "training epoch 35:\n",
            "The training accuracy is 52.96999999999999\n",
            "The validation accuracy is: 52.500000\n",
            "training epoch 36:\n",
            "The training accuracy is 60.638000000000005\n",
            "The validation accuracy is: 60.610000\n",
            "training epoch 37:\n",
            "The training accuracy is 61.992000000000004\n",
            "The validation accuracy is: 62.430000\n",
            "training epoch 38:\n",
            "The training accuracy is 62.126000000000005\n",
            "The validation accuracy is: 61.820000\n",
            "training epoch 39:\n",
            "The training accuracy is 61.76199999999999\n",
            "The validation accuracy is: 61.970000\n",
            "training epoch 40:\n",
            "The training accuracy is 63.952\n",
            "The validation accuracy is: 63.520000\n",
            "training epoch 41:\n",
            "The training accuracy is 64.656\n",
            "The validation accuracy is: 64.490000\n",
            "training epoch 42:\n",
            "The training accuracy is 60.29600000000001\n",
            "The validation accuracy is: 59.700000\n",
            "training epoch 43:\n",
            "The training accuracy is 61.828\n",
            "The validation accuracy is: 61.080000\n",
            "training epoch 44:\n",
            "The training accuracy is 67.908\n",
            "The validation accuracy is: 67.520000\n",
            "training epoch 45:\n",
            "The training accuracy is 66.122\n",
            "The validation accuracy is: 65.450000\n",
            "training epoch 46:\n",
            "The training accuracy is 62.344\n",
            "The validation accuracy is: 61.340000\n",
            "training epoch 47:\n",
            "The training accuracy is 58.9\n",
            "The validation accuracy is: 58.510000\n",
            "training epoch 48:\n",
            "The training accuracy is 67.896\n",
            "The validation accuracy is: 67.200000\n",
            "training epoch 49:\n",
            "The training accuracy is 68.15\n",
            "The validation accuracy is: 68.350000\n",
            "training epoch 50:\n",
            "The training accuracy is 62.212\n",
            "The validation accuracy is: 61.340000\n",
            "training epoch 51:\n",
            "The training accuracy is 66.488\n",
            "The validation accuracy is: 66.490000\n",
            "training epoch 52:\n",
            "The training accuracy is 75.178\n",
            "The validation accuracy is: 74.790000\n",
            "training epoch 53:\n",
            "The training accuracy is 73.2\n",
            "The validation accuracy is: 72.310000\n",
            "training epoch 54:\n",
            "The training accuracy is 65.346\n",
            "The validation accuracy is: 64.880000\n",
            "training epoch 55:\n",
            "The training accuracy is 63.58200000000001\n",
            "The validation accuracy is: 62.910000\n",
            "training epoch 56:\n",
            "The training accuracy is 73.662\n",
            "The validation accuracy is: 73.060000\n",
            "training epoch 57:\n",
            "The training accuracy is 74.134\n",
            "The validation accuracy is: 73.080000\n",
            "training epoch 58:\n",
            "The training accuracy is 75.252\n",
            "The validation accuracy is: 74.580000\n",
            "training epoch 59:\n",
            "The training accuracy is 73.996\n",
            "The validation accuracy is: 73.330000\n",
            "training epoch 60:\n",
            "The training accuracy is 77.404\n",
            "The validation accuracy is: 76.760000\n",
            "training epoch 61:\n",
            "The training accuracy is 70.592\n",
            "The validation accuracy is: 69.690000\n",
            "training epoch 62:\n",
            "The training accuracy is 64.87\n",
            "The validation accuracy is: 64.300000\n",
            "training epoch 63:\n",
            "The training accuracy is 72.098\n",
            "The validation accuracy is: 71.390000\n",
            "training epoch 64:\n",
            "The training accuracy is 75.618\n",
            "The validation accuracy is: 74.840000\n",
            "training epoch 65:\n",
            "The training accuracy is 75.022\n",
            "The validation accuracy is: 74.820000\n",
            "training epoch 66:\n",
            "The training accuracy is 79.24600000000001\n",
            "The validation accuracy is: 78.410000\n",
            "training epoch 67:\n",
            "The training accuracy is 80.36999999999999\n",
            "The validation accuracy is: 79.660000\n",
            "training epoch 68:\n",
            "The training accuracy is 78.366\n",
            "The validation accuracy is: 77.250000\n",
            "training epoch 69:\n",
            "The training accuracy is 78.816\n",
            "The validation accuracy is: 78.140000\n",
            "training epoch 70:\n",
            "The training accuracy is 78.072\n",
            "The validation accuracy is: 77.090000\n",
            "training epoch 71:\n",
            "The training accuracy is 79.35\n",
            "The validation accuracy is: 78.760000\n",
            "training epoch 72:\n",
            "The training accuracy is 79.888\n",
            "The validation accuracy is: 78.700000\n",
            "training epoch 73:\n",
            "The training accuracy is 79.894\n",
            "The validation accuracy is: 79.470000\n",
            "training epoch 74:\n",
            "The training accuracy is 77.63799999999999\n",
            "The validation accuracy is: 76.480000\n",
            "training epoch 75:\n",
            "The training accuracy is 78.34400000000001\n",
            "The validation accuracy is: 77.740000\n",
            "training epoch 76:\n",
            "The training accuracy is 82.836\n",
            "The validation accuracy is: 81.980000\n",
            "training epoch 77:\n",
            "The training accuracy is 81.386\n",
            "The validation accuracy is: 80.460000\n",
            "training epoch 78:\n",
            "The training accuracy is 81.718\n",
            "The validation accuracy is: 80.940000\n",
            "training epoch 79:\n",
            "The training accuracy is 81.82199999999999\n",
            "The validation accuracy is: 80.790000\n",
            "training epoch 80:\n",
            "The training accuracy is 81.8\n",
            "The validation accuracy is: 80.880000\n",
            "training epoch 81:\n",
            "The training accuracy is 80.626\n",
            "The validation accuracy is: 79.270000\n",
            "training epoch 82:\n",
            "The training accuracy is 81.324\n",
            "The validation accuracy is: 80.570000\n",
            "training epoch 83:\n",
            "The training accuracy is 82.562\n",
            "The validation accuracy is: 81.600000\n",
            "training epoch 84:\n",
            "The training accuracy is 83.146\n",
            "The validation accuracy is: 82.250000\n",
            "training epoch 85:\n",
            "The training accuracy is 82.716\n",
            "The validation accuracy is: 81.810000\n",
            "training epoch 86:\n",
            "The training accuracy is 82.808\n",
            "The validation accuracy is: 82.000000\n",
            "training epoch 87:\n",
            "The training accuracy is 81.91199999999999\n",
            "The validation accuracy is: 80.910000\n",
            "training epoch 88:\n",
            "The training accuracy is 82.096\n",
            "The validation accuracy is: 81.090000\n",
            "training epoch 89:\n",
            "The training accuracy is 82.806\n",
            "The validation accuracy is: 81.660000\n",
            "training epoch 90:\n",
            "The training accuracy is 83.38600000000001\n",
            "The validation accuracy is: 82.320000\n",
            "training epoch 91:\n",
            "The training accuracy is 83.358\n",
            "The validation accuracy is: 82.310000\n",
            "training epoch 92:\n",
            "The training accuracy is 83.33\n",
            "The validation accuracy is: 82.380000\n",
            "training epoch 93:\n",
            "The training accuracy is 83.452\n",
            "The validation accuracy is: 82.540000\n",
            "training epoch 94:\n",
            "The training accuracy is 83.55799999999999\n",
            "The validation accuracy is: 82.470000\n",
            "training epoch 95:\n",
            "The training accuracy is 83.14399999999999\n",
            "The validation accuracy is: 81.940000\n",
            "training epoch 96:\n",
            "The training accuracy is 83.416\n",
            "The validation accuracy is: 82.240000\n",
            "training epoch 97:\n",
            "The training accuracy is 83.346\n",
            "The validation accuracy is: 82.280000\n",
            "training epoch 98:\n",
            "The training accuracy is 83.592\n",
            "The validation accuracy is: 82.680000\n",
            "training epoch 99:\n",
            "The training accuracy is 83.574\n",
            "The validation accuracy is: 82.630000\n",
            "training epoch 100:\n",
            "The training accuracy is 83.712\n",
            "The validation accuracy is: 82.570000\n",
            "training epoch 101:\n",
            "The training accuracy is 83.634\n",
            "The validation accuracy is: 82.690000\n",
            "training epoch 102:\n",
            "The training accuracy is 83.75\n",
            "The validation accuracy is: 82.780000\n",
            "training epoch 103:\n",
            "The training accuracy is 83.756\n",
            "The validation accuracy is: 82.910000\n",
            "training epoch 104:\n",
            "The training accuracy is 83.598\n",
            "The validation accuracy is: 82.660000\n",
            "training epoch 105:\n",
            "The training accuracy is 83.66799999999999\n",
            "The validation accuracy is: 82.780000\n",
            "training epoch 106:\n",
            "The training accuracy is 83.674\n",
            "The validation accuracy is: 82.750000\n",
            "training epoch 107:\n",
            "The training accuracy is 83.75399999999999\n",
            "The validation accuracy is: 82.810000\n",
            "training epoch 108:\n",
            "The training accuracy is 83.796\n",
            "The validation accuracy is: 82.740000\n",
            "training epoch 109:\n",
            "The training accuracy is 83.748\n",
            "The validation accuracy is: 82.820000\n",
            "training epoch 110:\n",
            "The training accuracy is 83.832\n",
            "The validation accuracy is: 82.840000\n",
            "training epoch 111:\n",
            "The training accuracy is 83.514\n",
            "The validation accuracy is: 82.400000\n",
            "training epoch 112:\n",
            "The training accuracy is 83.696\n",
            "The validation accuracy is: 82.690000\n",
            "training epoch 113:\n",
            "The training accuracy is 83.85000000000001\n",
            "The validation accuracy is: 82.820000\n",
            "training epoch 114:\n",
            "The training accuracy is 83.67599999999999\n",
            "The validation accuracy is: 82.710000\n",
            "training epoch 115:\n",
            "The training accuracy is 83.898\n",
            "The validation accuracy is: 82.900000\n",
            "training epoch 116:\n",
            "The training accuracy is 84.04\n",
            "The validation accuracy is: 83.010000\n",
            "training epoch 117:\n",
            "The training accuracy is 83.856\n",
            "The validation accuracy is: 82.920000\n",
            "training epoch 118:\n",
            "The training accuracy is 83.826\n",
            "The validation accuracy is: 82.890000\n",
            "training epoch 119:\n",
            "The training accuracy is 83.834\n",
            "The validation accuracy is: 82.910000\n",
            "training epoch 120:\n",
            "The training accuracy is 83.85000000000001\n",
            "The validation accuracy is: 83.020000\n",
            "training epoch 121:\n",
            "The training accuracy is 84.002\n",
            "The validation accuracy is: 83.170000\n",
            "training epoch 122:\n",
            "The training accuracy is 83.902\n",
            "The validation accuracy is: 82.910000\n",
            "training epoch 123:\n",
            "The training accuracy is 83.926\n",
            "The validation accuracy is: 82.980000\n",
            "training epoch 124:\n",
            "The training accuracy is 84.0\n",
            "The validation accuracy is: 83.100000\n",
            "training epoch 125:\n",
            "The training accuracy is 84.02\n",
            "The validation accuracy is: 83.130000\n",
            "training epoch 126:\n",
            "The training accuracy is 84.032\n",
            "The validation accuracy is: 83.120000\n",
            "training epoch 127:\n",
            "The training accuracy is 84.074\n",
            "The validation accuracy is: 83.100000\n",
            "training epoch 128:\n",
            "The training accuracy is 84.104\n",
            "The validation accuracy is: 83.080000\n",
            "training epoch 129:\n",
            "The training accuracy is 84.078\n",
            "The validation accuracy is: 83.170000\n",
            "training epoch 130:\n",
            "The training accuracy is 84.09\n",
            "The validation accuracy is: 83.220000\n"
          ]
        },
        {
          "output_type": "display_data",
          "data": {
            "text/plain": [
              "<Figure size 640x480 with 1 Axes>"
            ],
            "image/png": "[encoded data removed]"
          },
          "metadata": {}
        }
      ],
      "source": [
        "### Best ###\n",
        "\n",
        "lr = 700\n",
        "n_epochs = 200\n",
        "reg_const = 0.001\n",
        "\n",
        "### experiment\n",
        "import matplotlib.pyplot as plt\n",
        "\n",
        "x = np.linspace(1, n_epochs, n_epochs)\n",
        "y = np.zeros(n_epochs)\n",
        "\n",
        "softmax_fashion = Softmax(n_class_fashion, lr, 1, reg_const)\n",
        "for epoch in range(n_epochs):\n",
        "  print(\"training epoch {}:\".format(epoch))\n",
        "  softmax_fashion.train(X_train_fashion, y_train_fashion)\n",
        "  pred_softmax = softmax_fashion.predict(X_val_fashion)\n",
        "  print('The validation accuracy is: %f' % (get_acc(pred_softmax, y_val_fashion)))\n",
        "  y[epoch] = get_acc(pred_softmax, y_val_fashion)\n",
        "  if get_acc(pred_softmax, y_val_fashion) > 83.2:\n",
        "    break\n",
        "\n",
        "plt.plot(x, y, 'r-.p')\n",
        "plt.show()"
      ]
    },
    {
      "cell_type": "code",
      "source": [
        "### Best: lr=3, reg=0.001\n",
        "lr = 3.5\n",
        "n_epochs = 250\n",
        "reg_const = 0.001\n",
        "\n",
        "### experiment\n",
        "import matplotlib.pyplot as plt\n",
        "\n",
        "x = np.linspace(1, n_epochs, n_epochs)\n",
        "y = np.zeros(n_epochs)\n",
        "\n",
        "softmax_fashion = Softmax(n_class_fashion, lr, 1, reg_const)\n",
        "for epoch in range(n_epochs):\n",
        "  print(\"training epoch {}:\".format(epoch))\n",
        "  softmax_fashion.train(X_train_fashion, y_train_fashion)\n",
        "  pred_softmax = softmax_fashion.predict(X_val_fashion)\n",
        "  print('The validation accuracy is: %f' % (get_acc(pred_softmax, y_val_fashion)))\n",
        "  y[epoch] = get_acc(pred_softmax, y_val_fashion)\n",
        "  if get_acc(pred_softmax, y_val_fashion) >= 84:\n",
        "    break\n",
        "\n",
        "plt.plot(x, y, 'r-.p')\n",
        "plt.show()"
      ],
      "metadata": {
        "colab": {
          "base_uri": "https://localhost:8080/",
          "height": 1000
        },
        "id": "8JiDYdL6P-m4",
        "outputId": "4e0c60c6-06d8-4e84-c610-d2da97e985c3"
      },
      "execution_count": 79,
      "outputs": [
        {
          "output_type": "stream",
          "name": "stdout",
          "text": [
            "training epoch 0:\n",
            "The training accuracy is 36.608000000000004\n",
            "The validation accuracy is: 36.910000\n",
            "training epoch 1:\n",
            "The training accuracy is 55.17999999999999\n",
            "The validation accuracy is: 55.030000\n",
            "training epoch 2:\n",
            "The training accuracy is 53.1\n",
            "The validation accuracy is: 53.420000\n",
            "training epoch 3:\n",
            "The training accuracy is 59.102\n",
            "The validation accuracy is: 58.900000\n",
            "training epoch 4:\n",
            "The training accuracy is 62.388\n",
            "The validation accuracy is: 61.980000\n",
            "training epoch 5:\n",
            "The training accuracy is 64.044\n",
            "The validation accuracy is: 63.220000\n",
            "training epoch 6:\n",
            "The training accuracy is 66.01\n",
            "The validation accuracy is: 65.460000\n",
            "training epoch 7:\n",
            "The training accuracy is 66.45\n",
            "The validation accuracy is: 65.910000\n",
            "training epoch 8:\n",
            "The training accuracy is 63.798\n",
            "The validation accuracy is: 63.790000\n",
            "training epoch 9:\n",
            "The training accuracy is 66.712\n",
            "The validation accuracy is: 66.530000\n",
            "training epoch 10:\n",
            "The training accuracy is 72.066\n",
            "The validation accuracy is: 71.750000\n",
            "training epoch 11:\n",
            "The training accuracy is 72.162\n",
            "The validation accuracy is: 71.310000\n",
            "training epoch 12:\n",
            "The training accuracy is 75.008\n",
            "The validation accuracy is: 74.520000\n",
            "training epoch 13:\n",
            "The training accuracy is 71.932\n",
            "The validation accuracy is: 71.320000\n",
            "training epoch 14:\n",
            "The training accuracy is 72.46000000000001\n",
            "The validation accuracy is: 71.730000\n",
            "training epoch 15:\n",
            "The training accuracy is 76.184\n",
            "The validation accuracy is: 75.780000\n",
            "training epoch 16:\n",
            "The training accuracy is 77.06\n",
            "The validation accuracy is: 76.520000\n",
            "training epoch 17:\n",
            "The training accuracy is 72.934\n",
            "The validation accuracy is: 72.340000\n",
            "training epoch 18:\n",
            "The training accuracy is 67.94\n",
            "The validation accuracy is: 67.680000\n",
            "training epoch 19:\n",
            "The training accuracy is 68.958\n",
            "The validation accuracy is: 68.760000\n",
            "training epoch 20:\n",
            "The training accuracy is 70.92399999999999\n",
            "The validation accuracy is: 70.290000\n",
            "training epoch 21:\n",
            "The training accuracy is 68.894\n",
            "The validation accuracy is: 69.100000\n",
            "training epoch 22:\n",
            "The training accuracy is 68.786\n",
            "The validation accuracy is: 67.930000\n",
            "training epoch 23:\n",
            "The training accuracy is 74.51\n",
            "The validation accuracy is: 74.100000\n",
            "training epoch 24:\n",
            "The training accuracy is 74.534\n",
            "The validation accuracy is: 73.620000\n",
            "training epoch 25:\n",
            "The training accuracy is 71.368\n",
            "The validation accuracy is: 70.900000\n",
            "training epoch 26:\n",
            "The training accuracy is 75.688\n",
            "The validation accuracy is: 75.210000\n",
            "training epoch 27:\n",
            "The training accuracy is 78.598\n",
            "The validation accuracy is: 77.960000\n",
            "training epoch 28:\n",
            "The training accuracy is 77.77199999999999\n",
            "The validation accuracy is: 76.950000\n",
            "training epoch 29:\n",
            "The training accuracy is 75.99000000000001\n",
            "The validation accuracy is: 75.570000\n",
            "training epoch 30:\n",
            "The training accuracy is 75.66000000000001\n",
            "The validation accuracy is: 74.750000\n",
            "training epoch 31:\n",
            "The training accuracy is 74.654\n",
            "The validation accuracy is: 73.570000\n",
            "training epoch 32:\n",
            "The training accuracy is 73.63\n",
            "The validation accuracy is: 73.160000\n",
            "training epoch 33:\n",
            "The training accuracy is 76.28\n",
            "The validation accuracy is: 75.630000\n",
            "training epoch 34:\n",
            "The training accuracy is 79.012\n",
            "The validation accuracy is: 78.440000\n",
            "training epoch 35:\n",
            "The training accuracy is 79.976\n",
            "The validation accuracy is: 79.480000\n",
            "training epoch 36:\n",
            "The training accuracy is 80.824\n",
            "The validation accuracy is: 80.140000\n",
            "training epoch 37:\n",
            "The training accuracy is 77.312\n",
            "The validation accuracy is: 76.360000\n",
            "training epoch 38:\n",
            "The training accuracy is 77.102\n",
            "The validation accuracy is: 76.610000\n",
            "training epoch 39:\n",
            "The training accuracy is 72.08200000000001\n",
            "The validation accuracy is: 71.140000\n",
            "training epoch 40:\n",
            "The training accuracy is 74.824\n",
            "The validation accuracy is: 74.550000\n",
            "training epoch 41:\n",
            "The training accuracy is 74.012\n",
            "The validation accuracy is: 73.350000\n",
            "training epoch 42:\n",
            "The training accuracy is 76.92\n",
            "The validation accuracy is: 76.220000\n",
            "training epoch 43:\n",
            "The training accuracy is 77.424\n",
            "The validation accuracy is: 76.650000\n",
            "training epoch 44:\n",
            "The training accuracy is 78.5\n",
            "The validation accuracy is: 77.970000\n",
            "training epoch 45:\n",
            "The training accuracy is 81.296\n",
            "The validation accuracy is: 80.390000\n",
            "training epoch 46:\n",
            "The training accuracy is 81.19800000000001\n",
            "The validation accuracy is: 80.260000\n",
            "training epoch 47:\n",
            "The training accuracy is 77.922\n",
            "The validation accuracy is: 76.710000\n",
            "training epoch 48:\n",
            "The training accuracy is 78.896\n",
            "The validation accuracy is: 78.500000\n",
            "training epoch 49:\n",
            "The training accuracy is 75.368\n",
            "The validation accuracy is: 73.820000\n",
            "training epoch 50:\n",
            "The training accuracy is 75.196\n",
            "The validation accuracy is: 74.620000\n",
            "training epoch 51:\n",
            "The training accuracy is 78.378\n",
            "The validation accuracy is: 77.510000\n",
            "training epoch 52:\n",
            "The training accuracy is 81.11\n",
            "The validation accuracy is: 80.490000\n",
            "training epoch 53:\n",
            "The training accuracy is 80.46600000000001\n",
            "The validation accuracy is: 79.470000\n",
            "training epoch 54:\n",
            "The training accuracy is 78.55199999999999\n",
            "The validation accuracy is: 78.000000\n",
            "training epoch 55:\n",
            "The training accuracy is 76.548\n",
            "The validation accuracy is: 75.760000\n",
            "training epoch 56:\n",
            "The training accuracy is 77.13799999999999\n",
            "The validation accuracy is: 76.010000\n",
            "training epoch 57:\n",
            "The training accuracy is 81.036\n",
            "The validation accuracy is: 80.320000\n",
            "training epoch 58:\n",
            "The training accuracy is 81.43\n",
            "The validation accuracy is: 80.650000\n",
            "training epoch 59:\n",
            "The training accuracy is 77.026\n",
            "The validation accuracy is: 76.520000\n",
            "training epoch 60:\n",
            "The training accuracy is 74.66199999999999\n",
            "The validation accuracy is: 73.880000\n",
            "training epoch 61:\n",
            "The training accuracy is 75.28\n",
            "The validation accuracy is: 74.650000\n",
            "training epoch 62:\n",
            "The training accuracy is 78.40599999999999\n",
            "The validation accuracy is: 77.690000\n",
            "training epoch 63:\n",
            "The training accuracy is 80.448\n",
            "The validation accuracy is: 79.870000\n",
            "training epoch 64:\n",
            "The training accuracy is 78.472\n",
            "The validation accuracy is: 77.420000\n",
            "training epoch 65:\n",
            "The training accuracy is 78.51599999999999\n",
            "The validation accuracy is: 77.880000\n",
            "training epoch 66:\n",
            "The training accuracy is 77.578\n",
            "The validation accuracy is: 76.560000\n",
            "training epoch 67:\n",
            "The training accuracy is 79.712\n",
            "The validation accuracy is: 79.040000\n",
            "training epoch 68:\n",
            "The training accuracy is 80.05799999999999\n",
            "The validation accuracy is: 78.930000\n",
            "training epoch 69:\n",
            "The training accuracy is 81.448\n",
            "The validation accuracy is: 80.750000\n",
            "training epoch 70:\n",
            "The training accuracy is 78.456\n",
            "The validation accuracy is: 77.510000\n",
            "training epoch 71:\n",
            "The training accuracy is 78.718\n",
            "The validation accuracy is: 78.190000\n",
            "training epoch 72:\n",
            "The training accuracy is 76.244\n",
            "The validation accuracy is: 75.490000\n",
            "training epoch 73:\n",
            "The training accuracy is 77.114\n",
            "The validation accuracy is: 76.700000\n",
            "training epoch 74:\n",
            "The training accuracy is 82.126\n",
            "The validation accuracy is: 81.400000\n",
            "training epoch 75:\n",
            "The training accuracy is 81.22\n",
            "The validation accuracy is: 80.430000\n",
            "training epoch 76:\n",
            "The training accuracy is 80.82000000000001\n",
            "The validation accuracy is: 79.810000\n",
            "training epoch 77:\n",
            "The training accuracy is 80.428\n",
            "The validation accuracy is: 79.570000\n",
            "training epoch 78:\n",
            "The training accuracy is 76.91\n",
            "The validation accuracy is: 75.960000\n",
            "training epoch 79:\n",
            "The training accuracy is 75.534\n",
            "The validation accuracy is: 75.050000\n",
            "training epoch 80:\n",
            "The training accuracy is 82.006\n",
            "The validation accuracy is: 81.490000\n",
            "training epoch 81:\n",
            "The training accuracy is 82.364\n",
            "The validation accuracy is: 81.330000\n",
            "training epoch 82:\n",
            "The training accuracy is 81.43599999999999\n",
            "The validation accuracy is: 80.760000\n",
            "training epoch 83:\n",
            "The training accuracy is 82.15400000000001\n",
            "The validation accuracy is: 80.990000\n",
            "training epoch 84:\n",
            "The training accuracy is 82.116\n",
            "The validation accuracy is: 81.470000\n",
            "training epoch 85:\n",
            "The training accuracy is 83.02000000000001\n",
            "The validation accuracy is: 81.940000\n",
            "training epoch 86:\n",
            "The training accuracy is 81.496\n",
            "The validation accuracy is: 80.710000\n",
            "training epoch 87:\n",
            "The training accuracy is 79.616\n",
            "The validation accuracy is: 78.880000\n",
            "training epoch 88:\n",
            "The training accuracy is 78.684\n",
            "The validation accuracy is: 77.940000\n",
            "training epoch 89:\n",
            "The training accuracy is 81.244\n",
            "The validation accuracy is: 80.480000\n",
            "training epoch 90:\n",
            "The training accuracy is 79.95\n",
            "The validation accuracy is: 78.960000\n",
            "training epoch 91:\n",
            "The training accuracy is 81.604\n",
            "The validation accuracy is: 80.960000\n",
            "training epoch 92:\n",
            "The training accuracy is 78.542\n",
            "The validation accuracy is: 77.370000\n",
            "training epoch 93:\n",
            "The training accuracy is 79.364\n",
            "The validation accuracy is: 79.060000\n",
            "training epoch 94:\n",
            "The training accuracy is 81.388\n",
            "The validation accuracy is: 80.350000\n",
            "training epoch 95:\n",
            "The training accuracy is 82.53399999999999\n",
            "The validation accuracy is: 81.870000\n",
            "training epoch 96:\n",
            "The training accuracy is 81.684\n",
            "The validation accuracy is: 80.700000\n",
            "training epoch 97:\n",
            "The training accuracy is 80.47800000000001\n",
            "The validation accuracy is: 79.810000\n",
            "training epoch 98:\n",
            "The training accuracy is 80.10199999999999\n",
            "The validation accuracy is: 78.930000\n",
            "training epoch 99:\n",
            "The training accuracy is 81.21199999999999\n",
            "The validation accuracy is: 80.610000\n",
            "training epoch 100:\n",
            "The training accuracy is 82.416\n",
            "The validation accuracy is: 81.380000\n",
            "training epoch 101:\n",
            "The training accuracy is 81.838\n",
            "The validation accuracy is: 81.070000\n",
            "training epoch 102:\n",
            "The training accuracy is 81.53399999999999\n",
            "The validation accuracy is: 80.570000\n",
            "training epoch 103:\n",
            "The training accuracy is 80.58\n",
            "The validation accuracy is: 80.150000\n",
            "training epoch 104:\n",
            "The training accuracy is 80.732\n",
            "The validation accuracy is: 80.000000\n",
            "training epoch 105:\n",
            "The training accuracy is 80.622\n",
            "The validation accuracy is: 80.180000\n",
            "training epoch 106:\n",
            "The training accuracy is 81.04599999999999\n",
            "The validation accuracy is: 80.310000\n",
            "training epoch 107:\n",
            "The training accuracy is 79.14999999999999\n",
            "The validation accuracy is: 78.450000\n",
            "training epoch 108:\n",
            "The training accuracy is 77.936\n",
            "The validation accuracy is: 77.520000\n",
            "training epoch 109:\n",
            "The training accuracy is 83.756\n",
            "The validation accuracy is: 82.810000\n",
            "training epoch 110:\n",
            "The training accuracy is 83.682\n",
            "The validation accuracy is: 82.730000\n",
            "training epoch 111:\n",
            "The training accuracy is 84.11800000000001\n",
            "The validation accuracy is: 83.280000\n",
            "training epoch 112:\n",
            "The training accuracy is 82.39\n",
            "The validation accuracy is: 81.560000\n",
            "training epoch 113:\n",
            "The training accuracy is 82.324\n",
            "The validation accuracy is: 81.860000\n",
            "training epoch 114:\n",
            "The training accuracy is 77.754\n",
            "The validation accuracy is: 77.090000\n",
            "training epoch 115:\n",
            "The training accuracy is 79.688\n",
            "The validation accuracy is: 79.400000\n",
            "training epoch 116:\n",
            "The training accuracy is 83.536\n",
            "The validation accuracy is: 82.420000\n",
            "training epoch 117:\n",
            "The training accuracy is 82.91\n",
            "The validation accuracy is: 82.010000\n",
            "training epoch 118:\n",
            "The training accuracy is 83.966\n",
            "The validation accuracy is: 83.190000\n",
            "training epoch 119:\n",
            "The training accuracy is 84.148\n",
            "The validation accuracy is: 83.300000\n",
            "training epoch 120:\n",
            "The training accuracy is 83.61800000000001\n",
            "The validation accuracy is: 82.340000\n",
            "training epoch 121:\n",
            "The training accuracy is 83.48400000000001\n",
            "The validation accuracy is: 82.660000\n",
            "training epoch 122:\n",
            "The training accuracy is 82.78999999999999\n",
            "The validation accuracy is: 81.890000\n",
            "training epoch 123:\n",
            "The training accuracy is 81.53\n",
            "The validation accuracy is: 80.690000\n",
            "training epoch 124:\n",
            "The training accuracy is 79.51\n",
            "The validation accuracy is: 78.850000\n",
            "training epoch 125:\n",
            "The training accuracy is 82.004\n",
            "The validation accuracy is: 81.190000\n",
            "training epoch 126:\n",
            "The training accuracy is 82.03\n",
            "The validation accuracy is: 81.030000\n",
            "training epoch 127:\n",
            "The training accuracy is 79.654\n",
            "The validation accuracy is: 78.730000\n",
            "training epoch 128:\n",
            "The training accuracy is 79.84599999999999\n",
            "The validation accuracy is: 78.950000\n",
            "training epoch 129:\n",
            "The training accuracy is 81.648\n",
            "The validation accuracy is: 80.900000\n",
            "training epoch 130:\n",
            "The training accuracy is 79.69800000000001\n",
            "The validation accuracy is: 78.670000\n",
            "training epoch 131:\n",
            "The training accuracy is 82.458\n",
            "The validation accuracy is: 81.780000\n",
            "training epoch 132:\n",
            "The training accuracy is 83.134\n",
            "The validation accuracy is: 82.080000\n",
            "training epoch 133:\n",
            "The training accuracy is 82.318\n",
            "The validation accuracy is: 81.610000\n",
            "training epoch 134:\n",
            "The training accuracy is 81.416\n",
            "The validation accuracy is: 80.230000\n",
            "training epoch 135:\n",
            "The training accuracy is 81.774\n",
            "The validation accuracy is: 81.040000\n",
            "training epoch 136:\n",
            "The training accuracy is 83.256\n",
            "The validation accuracy is: 82.200000\n",
            "training epoch 137:\n",
            "The training accuracy is 83.312\n",
            "The validation accuracy is: 82.150000\n",
            "training epoch 138:\n",
            "The training accuracy is 83.166\n",
            "The validation accuracy is: 82.190000\n",
            "training epoch 139:\n",
            "The training accuracy is 83.356\n",
            "The validation accuracy is: 82.260000\n",
            "training epoch 140:\n",
            "The training accuracy is 83.018\n",
            "The validation accuracy is: 82.020000\n",
            "training epoch 141:\n",
            "The training accuracy is 82.384\n",
            "The validation accuracy is: 81.480000\n",
            "training epoch 142:\n",
            "The training accuracy is 82.578\n",
            "The validation accuracy is: 81.580000\n",
            "training epoch 143:\n",
            "The training accuracy is 82.12\n",
            "The validation accuracy is: 81.000000\n",
            "training epoch 144:\n",
            "The training accuracy is 83.09\n",
            "The validation accuracy is: 82.220000\n",
            "training epoch 145:\n",
            "The training accuracy is 83.974\n",
            "The validation accuracy is: 82.850000\n",
            "training epoch 146:\n",
            "The training accuracy is 81.83\n",
            "The validation accuracy is: 80.770000\n",
            "training epoch 147:\n",
            "The training accuracy is 82.542\n",
            "The validation accuracy is: 81.900000\n",
            "training epoch 148:\n",
            "The training accuracy is 82.408\n",
            "The validation accuracy is: 81.160000\n",
            "training epoch 149:\n",
            "The training accuracy is 83.994\n",
            "The validation accuracy is: 83.060000\n",
            "training epoch 150:\n",
            "The training accuracy is 83.67599999999999\n",
            "The validation accuracy is: 82.590000\n",
            "training epoch 151:\n",
            "The training accuracy is 84.446\n",
            "The validation accuracy is: 83.500000\n",
            "training epoch 152:\n",
            "The training accuracy is 84.868\n",
            "The validation accuracy is: 83.950000\n",
            "training epoch 153:\n",
            "The training accuracy is 84.454\n",
            "The validation accuracy is: 83.670000\n",
            "training epoch 154:\n",
            "The training accuracy is 84.504\n",
            "The validation accuracy is: 83.790000\n",
            "training epoch 155:\n",
            "The training accuracy is 84.25200000000001\n",
            "The validation accuracy is: 83.510000\n",
            "training epoch 156:\n",
            "The training accuracy is 83.664\n",
            "The validation accuracy is: 82.960000\n",
            "training epoch 157:\n",
            "The training accuracy is 84.402\n",
            "The validation accuracy is: 83.530000\n",
            "training epoch 158:\n",
            "The training accuracy is 84.074\n",
            "The validation accuracy is: 83.290000\n",
            "training epoch 159:\n",
            "The training accuracy is 84.304\n",
            "The validation accuracy is: 83.210000\n",
            "training epoch 160:\n",
            "The training accuracy is 83.172\n",
            "The validation accuracy is: 82.060000\n",
            "training epoch 161:\n",
            "The training accuracy is 84.098\n",
            "The validation accuracy is: 83.060000\n",
            "training epoch 162:\n",
            "The training accuracy is 84.06\n",
            "The validation accuracy is: 82.910000\n",
            "training epoch 163:\n",
            "The training accuracy is 83.042\n",
            "The validation accuracy is: 82.040000\n",
            "training epoch 164:\n",
            "The training accuracy is 83.818\n",
            "The validation accuracy is: 82.720000\n",
            "training epoch 165:\n",
            "The training accuracy is 82.94399999999999\n",
            "The validation accuracy is: 81.850000\n",
            "training epoch 166:\n",
            "The training accuracy is 82.376\n",
            "The validation accuracy is: 81.330000\n",
            "training epoch 167:\n",
            "The training accuracy is 83.226\n",
            "The validation accuracy is: 82.280000\n",
            "training epoch 168:\n",
            "The training accuracy is 82.748\n",
            "The validation accuracy is: 81.910000\n",
            "training epoch 169:\n",
            "The training accuracy is 84.276\n",
            "The validation accuracy is: 83.310000\n",
            "training epoch 170:\n",
            "The training accuracy is 84.47200000000001\n",
            "The validation accuracy is: 83.450000\n",
            "training epoch 171:\n",
            "The training accuracy is 84.402\n",
            "The validation accuracy is: 83.150000\n",
            "training epoch 172:\n",
            "The training accuracy is 84.82600000000001\n",
            "The validation accuracy is: 83.740000\n",
            "training epoch 173:\n",
            "The training accuracy is 84.53399999999999\n",
            "The validation accuracy is: 83.460000\n",
            "training epoch 174:\n",
            "The training accuracy is 84.02\n",
            "The validation accuracy is: 83.400000\n",
            "training epoch 175:\n",
            "The training accuracy is 84.958\n",
            "The validation accuracy is: 84.020000\n"
          ]
        },
        {
          "output_type": "display_data",
          "data": {
            "text/plain": [
              "<Figure size 640x480 with 1 Axes>"
            ],
            "image/png": "[encoded data removed]"
          },
          "metadata": {}
        }
      ]
    },
    {
      "cell_type": "code",
      "source": [
        "print(np.max(y))"
      ],
      "metadata": {
        "colab": {
          "base_uri": "https://localhost:8080/"
        },
        "id": "in1TDG4HmpYT",
        "outputId": "6bdd4977-806c-42aa-cc61-7986eb3299e2"
      },
      "execution_count": 78,
      "outputs": [
        {
          "output_type": "stream",
          "name": "stdout",
          "text": [
            "83.82\n"
          ]
        }
      ]
    },
    {
      "cell_type": "code",
      "execution_count": 80,
      "metadata": {
        "id": "QBWhaUKEXnoX",
        "colab": {
          "base_uri": "https://localhost:8080/"
        },
        "outputId": "7712f855-7ede-445d-c518-379a9f1d5c9e"
      },
      "outputs": [
        {
          "output_type": "stream",
          "name": "stdout",
          "text": [
            "The training accuracy is given by: 84.958000\n"
          ]
        }
      ],
      "source": [
        "pred_softmax = softmax_fashion.predict(X_train_fashion)\n",
        "print('The training accuracy is given by: %f' % (get_acc(pred_softmax, y_train_fashion)))"
      ]
    },
    {
      "cell_type": "markdown",
      "metadata": {
        "id": "eTSMTee3XnoX"
      },
      "source": [
        "### Validate Softmax on Fashion-MNIST"
      ]
    },
    {
      "cell_type": "code",
      "execution_count": 81,
      "metadata": {
        "id": "7fb1UBY7XnoX",
        "colab": {
          "base_uri": "https://localhost:8080/"
        },
        "outputId": "44f2ee00-60c3-4c4a-dceb-1480fca8c488"
      },
      "outputs": [
        {
          "output_type": "stream",
          "name": "stdout",
          "text": [
            "The validation accuracy is given by: 84.020000\n"
          ]
        }
      ],
      "source": [
        "pred_softmax = softmax_fashion.predict(X_val_fashion)\n",
        "print('The validation accuracy is given by: %f' % (get_acc(pred_softmax, y_val_fashion)))"
      ]
    },
    {
      "cell_type": "markdown",
      "metadata": {
        "id": "yGzRm3RlXnoY"
      },
      "source": [
        "### Testing Softmax on Fashion-MNIST"
      ]
    },
    {
      "cell_type": "code",
      "execution_count": 82,
      "metadata": {
        "id": "VkB9muCzXnoY",
        "colab": {
          "base_uri": "https://localhost:8080/"
        },
        "outputId": "81ab266e-01e4-4314-a9b9-3491fd281794"
      },
      "outputs": [
        {
          "output_type": "stream",
          "name": "stdout",
          "text": [
            "The testing accuracy is given by: 83.030000\n"
          ]
        }
      ],
      "source": [
        "pred_softmax = softmax_fashion.predict(X_test_fashion)\n",
        "print('The testing accuracy is given by: %f' % (get_acc(pred_softmax, y_test_fashion)))"
      ]
    },
    {
      "cell_type": "markdown",
      "metadata": {
        "id": "OdGuYMqqXnoY"
      },
      "source": [
        "### Softmax_Fashion-MNIST Kaggle Submission\n",
        "\n",
        "Once you are satisfied with your solution and test accuracy output a file to submit your test set predictions to the Kaggle for Assignment 1 Fashion-MNIST. Use the following code to do so:"
      ]
    },
    {
      "cell_type": "code",
      "execution_count": null,
      "metadata": {
        "id": "YpHM9CgBXnoY"
      },
      "outputs": [],
      "source": [
        "output_submission_csv('kaggle/softmax_submission_fashion.csv', softmax_fashion.predict(X_test_fashion))"
      ]
    },
    {
      "cell_type": "markdown",
      "metadata": {
        "id": "_dbuR7X5XnoY"
      },
      "source": [
        "## Train Softmax on Rice"
      ]
    },
    {
      "cell_type": "code",
      "source": [
        "### Best ###\n",
        "\n",
        "lr = 0.005\n",
        "n_epochs = 50\n",
        "reg_const = 0.001\n",
        "\n",
        "softmax_RICE = Softmax(n_class_RICE, lr, n_epochs, reg_const)\n",
        "softmax_RICE.train(X_train_RICE, y_train_RICE)"
      ],
      "metadata": {
        "colab": {
          "base_uri": "https://localhost:8080/"
        },
        "id": "GPJq_GTin1lN",
        "outputId": "b50f6960-d317-40c3-928e-f9456a458a06"
      },
      "execution_count": null,
      "outputs": [
        {
          "output_type": "stream",
          "name": "stdout",
          "text": [
            "Doing binary classification.\n",
            "The training accuracy is 90.83493721931995\n",
            "The training accuracy is 90.82577215653927\n",
            "The training accuracy is 90.81660709375859\n",
            "The training accuracy is 90.81660709375859\n",
            "The training accuracy is 90.81660709375859\n",
            "The training accuracy is 90.80744203097791\n",
            "The training accuracy is 90.80744203097791\n",
            "The training accuracy is 90.79827696819723\n",
            "The training accuracy is 90.79827696819723\n",
            "The training accuracy is 90.79827696819723\n",
            "The training accuracy is 90.79827696819723\n",
            "The training accuracy is 90.79827696819723\n",
            "The training accuracy is 90.79827696819723\n",
            "The training accuracy is 90.79827696819723\n",
            "The training accuracy is 90.78911190541655\n",
            "The training accuracy is 90.78911190541655\n",
            "The training accuracy is 90.78911190541655\n",
            "The training accuracy is 90.78911190541655\n",
            "The training accuracy is 90.78911190541655\n",
            "The training accuracy is 90.78911190541655\n",
            "The training accuracy is 90.78911190541655\n",
            "The training accuracy is 90.78911190541655\n",
            "The training accuracy is 90.78911190541655\n",
            "The training accuracy is 90.78911190541655\n",
            "The training accuracy is 90.78911190541655\n",
            "The training accuracy is 90.78911190541655\n",
            "The training accuracy is 90.78911190541655\n",
            "The training accuracy is 90.78911190541655\n",
            "The training accuracy is 90.78911190541655\n",
            "The training accuracy is 90.78911190541655\n",
            "The training accuracy is 90.77994684263587\n",
            "The training accuracy is 90.77994684263587\n",
            "The training accuracy is 90.77994684263587\n",
            "The training accuracy is 90.77994684263587\n",
            "The training accuracy is 90.77994684263587\n",
            "The training accuracy is 90.77994684263587\n",
            "The training accuracy is 90.77994684263587\n",
            "The training accuracy is 90.77994684263587\n",
            "The training accuracy is 90.77994684263587\n",
            "The training accuracy is 90.77994684263587\n",
            "The training accuracy is 90.7707817798552\n",
            "The training accuracy is 90.7707817798552\n",
            "The training accuracy is 90.7707817798552\n",
            "The training accuracy is 90.7707817798552\n",
            "The training accuracy is 90.7707817798552\n",
            "The training accuracy is 90.7707817798552\n",
            "The training accuracy is 90.7707817798552\n",
            "The training accuracy is 90.7707817798552\n",
            "The training accuracy is 90.7707817798552\n",
            "The training accuracy is 90.7707817798552\n"
          ]
        }
      ]
    },
    {
      "cell_type": "code",
      "execution_count": null,
      "metadata": {
        "id": "Si7Oot8WXnoY",
        "colab": {
          "base_uri": "https://localhost:8080/"
        },
        "outputId": "b11e0b56-caec-4130-d3f7-4fba691f2646"
      },
      "outputs": [
        {
          "output_type": "stream",
          "name": "stdout",
          "text": [
            "The training accuracy is given by: 90.770782\n"
          ]
        }
      ],
      "source": [
        "pred_softmax = softmax_RICE.predict(X_train_RICE)\n",
        "print('The training accuracy is given by: %f' % (get_acc(pred_softmax, y_train_RICE)))"
      ]
    },
    {
      "cell_type": "markdown",
      "metadata": {
        "id": "G2tk8mbWXnoY"
      },
      "source": [
        "### Validate Softmax on Rice"
      ]
    },
    {
      "cell_type": "code",
      "execution_count": null,
      "metadata": {
        "id": "3seQ7XjiXnoY",
        "colab": {
          "base_uri": "https://localhost:8080/"
        },
        "outputId": "75334185-1427-40eb-d358-69c2284ecbb6"
      },
      "outputs": [
        {
          "output_type": "stream",
          "name": "stdout",
          "text": [
            "The validation accuracy is given by: 90.046742\n"
          ]
        }
      ],
      "source": [
        "pred_softmax = softmax_RICE.predict(X_val_RICE)\n",
        "print('The validation accuracy is given by: %f' % (get_acc(pred_softmax, y_val_RICE)))"
      ]
    },
    {
      "cell_type": "markdown",
      "metadata": {
        "id": "LhZJ2kPdXnoY"
      },
      "source": [
        "### Testing Softmax on Rice"
      ]
    },
    {
      "cell_type": "code",
      "execution_count": null,
      "metadata": {
        "id": "G6GfPDnzXnoY",
        "colab": {
          "base_uri": "https://localhost:8080/"
        },
        "outputId": "2f2f30c0-9ed3-4e2d-d949-4193daabbcee"
      },
      "outputs": [
        {
          "output_type": "stream",
          "name": "stdout",
          "text": [
            "The testing accuracy is given by: 92.273852\n"
          ]
        }
      ],
      "source": [
        "pred_softmax = softmax_RICE.predict(X_test_RICE)\n",
        "print('The testing accuracy is given by: %f' % (get_acc(pred_softmax, y_test_RICE)))"
      ]
    },
    {
      "cell_type": "markdown",
      "metadata": {
        "id": "uFTw7aYnXnoY"
      },
      "source": [
        "# Logistic Classifier"
      ]
    },
    {
      "cell_type": "markdown",
      "metadata": {
        "id": "nofyAhH7XnoY"
      },
      "source": [
        "The Logistic Classifier has 2 hyperparameters that you can experiment with:\n",
        "- **Learning rate** - similar to as defined above in Perceptron, this parameter scales by how much the weights are changed according to the calculated gradient update.\n",
        "- **Number of Epochs** - As described for perceptron.\n",
        "- **Threshold** - The decision boundary of the classifier.\n"
      ]
    },
    {
      "cell_type": "markdown",
      "metadata": {
        "id": "i7f-cMtQXnoY"
      },
      "source": [
        "You will implement the Logistic Classifier in the **models/logistic.py**\n",
        "\n",
        "The following code:\n",
        "- Creates an instance of the Logistic classifier class\n",
        "- The train function of the Logistic class is trained on the training data\n",
        "- We use the predict function to find the training accuracy as well as the testing accuracy"
      ]
    },
    {
      "cell_type": "markdown",
      "metadata": {
        "id": "s2UvHc7fXnoZ"
      },
      "source": [
        "### Training Logistic Classifer"
      ]
    },
    {
      "cell_type": "code",
      "source": [
        "a = np.array([[1,2,3],[4,5,6]])\n",
        "print(1/(1+np.exp(a)))"
      ],
      "metadata": {
        "colab": {
          "base_uri": "https://localhost:8080/"
        },
        "id": "UhCpLfis296O",
        "outputId": "9e9d8d9f-bb72-4920-bc00-4406f9d78c05"
      },
      "execution_count": null,
      "outputs": [
        {
          "output_type": "stream",
          "name": "stdout",
          "text": [
            "[[0.26894142 0.11920292 0.04742587]\n",
            " [0.01798621 0.00669285 0.00247262]]\n"
          ]
        }
      ]
    },
    {
      "cell_type": "code",
      "source": [
        "### Best ###\n",
        "learning_rate = 0.5\n",
        "n_epochs = 10\n",
        "threshold = 0.5\n",
        "\n",
        "lr = Logistic(learning_rate, n_epochs, threshold)\n",
        "lr.train(X_train_RICE, y_train_RICE)"
      ],
      "metadata": {
        "colab": {
          "base_uri": "https://localhost:8080/"
        },
        "id": "UF9EjqULn-iZ",
        "outputId": "a9c30021-81ff-4145-a43b-f2594cbcbf9d"
      },
      "execution_count": null,
      "outputs": [
        {
          "output_type": "stream",
          "name": "stderr",
          "text": [
            "/content/drive/MyDrive/CS444/assignment1/models/logistic.py:30: RuntimeWarning: overflow encountered in exp\n",
            "  return 1 / (1 + np.exp(-z))\n"
          ]
        },
        {
          "output_type": "stream",
          "name": "stdout",
          "text": [
            "The training accuracy is 69.36119512418661\n",
            "The training accuracy is 66.07093758592247\n",
            "The training accuracy is 70.65346897626249\n",
            "The training accuracy is 71.1483823664192\n",
            "The training accuracy is 94.83090459169645\n",
            "The training accuracy is 97.59875355146183\n",
            "The training accuracy is 99.20263953808085\n",
            "The training accuracy is 99.2209696636422\n",
            "The training accuracy is 98.90935752909907\n",
            "The training accuracy is 97.20465585189258\n"
          ]
        }
      ]
    },
    {
      "cell_type": "code",
      "execution_count": null,
      "metadata": {
        "id": "8OSTP86OXnoZ",
        "colab": {
          "base_uri": "https://localhost:8080/"
        },
        "outputId": "1293335d-8b14-47e9-c162-2baa1bad843f"
      },
      "outputs": [
        {
          "output_type": "stream",
          "name": "stdout",
          "text": [
            "The training accuracy is given by: 97.204656\n"
          ]
        }
      ],
      "source": [
        "pred_lr = lr.predict(X_train_RICE)\n",
        "print('The training accuracy is given by: %f' % (get_acc(pred_lr, y_train_RICE)))"
      ]
    },
    {
      "cell_type": "markdown",
      "metadata": {
        "id": "izthZMMuXnoZ"
      },
      "source": [
        "### Validate Logistic Classifer"
      ]
    },
    {
      "cell_type": "code",
      "execution_count": null,
      "metadata": {
        "id": "ToLf0I9YXnoZ",
        "colab": {
          "base_uri": "https://localhost:8080/"
        },
        "outputId": "11bc0f09-28a8-4707-80a9-9bf02680ddfc"
      },
      "outputs": [
        {
          "output_type": "stream",
          "name": "stdout",
          "text": [
            "The validation accuracy is given by: 97.360462\n"
          ]
        }
      ],
      "source": [
        "pred_lr = lr.predict(X_val_RICE)\n",
        "print('The validation accuracy is given by: %f' % (get_acc(pred_lr, y_val_RICE)))"
      ]
    },
    {
      "cell_type": "markdown",
      "metadata": {
        "id": "20DoX8pbXnoZ"
      },
      "source": [
        "### Test Logistic Classifier"
      ]
    },
    {
      "cell_type": "code",
      "execution_count": null,
      "metadata": {
        "id": "7PsgR-w_XnoZ",
        "colab": {
          "base_uri": "https://localhost:8080/"
        },
        "outputId": "82968ac7-e637-42fe-c350-1dba13f32c37"
      },
      "outputs": [
        {
          "output_type": "stream",
          "name": "stdout",
          "text": [
            "The testing accuracy is given by: 97.360462\n"
          ]
        }
      ],
      "source": [
        "pred_lr = lr.predict(X_test_RICE)\n",
        "print('The testing accuracy is given by: %f' % (get_acc(pred_lr, y_test_RICE)))"
      ]
    },
    {
      "cell_type": "code",
      "execution_count": null,
      "metadata": {
        "id": "u7Ryagb_XnoZ"
      },
      "outputs": [],
      "source": []
    }
  ],
  "metadata": {
    "colab": {
      "provenance": []
    },
    "kernelspec": {
      "display_name": "Python 3",
      "name": "python3"
    },
    "language_info": {
      "codemirror_mode": {
        "name": "ipython",
        "version": 3
      },
      "file_extension": ".py",
      "mimetype": "text/x-python",
      "name": "python",
      "nbconvert_exporter": "python",
      "pygments_lexer": "ipython3",
      "version": "3.6.13"
    },
    "vscode": {
      "interpreter": {
        "hash": "397704579725e15f5c7cb49fe5f0341eb7531c82d19f2c29d197e8b64ab5776b"
      }
    }
  },
  "nbformat": 4,
  "nbformat_minor": 0
}